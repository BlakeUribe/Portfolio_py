{
 "cells": [
  {
   "cell_type": "code",
   "execution_count": 1,
   "metadata": {},
   "outputs": [
    {
     "name": "stdout",
     "output_type": "stream",
     "text": [
      "\n",
      "\n",
      "Path of the current file\n",
      "['/Library/Frameworks/Python.framework/Versions/3.11/lib/python311.zip', '/Library/Frameworks/Python.framework/Versions/3.11/lib/python3.11', '/Library/Frameworks/Python.framework/Versions/3.11/lib/python3.11/lib-dynload', '', '/Users/blakeuribe/Desktop/portfolio_py/portfolio_env/lib/python3.11/site-packages']\n",
      "\n",
      "\n",
      "environment\n",
      "/Users/blakeuribe/Desktop/portfolio_py/portfolio_env/bin/python\n",
      "\n",
      "\n"
     ]
    }
   ],
   "source": [
    "import sys\n",
    "print('\\n')\n",
    "print('Path of the current file')\n",
    "print(sys.path)\n",
    "print('\\n')\n",
    "print('environment')\n",
    "print(sys.executable)\n",
    "print('\\n')"
   ]
  },
  {
   "cell_type": "code",
   "execution_count": 2,
   "metadata": {},
   "outputs": [],
   "source": [
    "import numpy as np\n",
    "import pandas as pd\n",
    "import yfinance as yf\n",
    "\n",
    "\n",
    "\n",
    "def calculate_sharpe_ratio(tickers, tbill, start_date, end_date):\n",
    "    # Download stock data for all tickers at once to minimize repeated API calls\n",
    "    stock_data = yf.download(tickers.tolist(), start=start_date, end=end_date, auto_adjust=True)['Close']\n",
    "\n",
    "    # Calculate daily returns for all tickers\n",
    "    daily_returns = stock_data.pct_change()\n",
    "\n",
    "    # Drop NaNs and align T-Bill data\n",
    "    stock_data_clean = daily_returns.dropna()\n",
    "    tbill_aligned = tbill.reindex(stock_data_clean.index, method='ffill')\n",
    "\n",
    "    # Calculate excess returns by subtracting the T-Bill rate\n",
    "    excess_returns = stock_data_clean.sub(tbill_aligned['^IRX'], axis=0)\n",
    "\n",
    "    # Calculate Sharpe ratio for each ticker using vectorized operations\n",
    "    excess_returns_std = excess_returns.std()\n",
    "    average_excess_daily_ret = excess_returns.mean()\n",
    "\n",
    "    daily_sharpe_ratio = average_excess_daily_ret / excess_returns_std\n",
    "    annualized_sharpe = daily_sharpe_ratio * np.sqrt(360)\n",
    "\n",
    "    return annualized_sharpe\n",
    "\n",
    "\n",
    "# # this funtion may not be in use\n",
    "# def filter_stocks(df: pd.DataFrame, \n",
    "#                  min_market_cap: float = 100_000_000_000,  # 100B\n",
    "#                  min_profit_margin: float = 0.2,           # 20%\n",
    "#                  min_sharpe: float = 0.75) -> pd.DataFrame:\n",
    "    \n",
    "#     # Handle missing values\n",
    "#     filtered_df = df.dropna(subset=['marketCap', 'profitMargins', 'sharpe_ratio'])\n",
    "    \n",
    "#     # Create filter conditions\n",
    "#     market_cap_filter = filtered_df['marketCap'] > min_market_cap\n",
    "#     profit_margin_filter = filtered_df['profitMargins'] > min_profit_margin\n",
    "#     sharpe_filter = filtered_df['sharpe_ratio'] > min_sharpe\n",
    "    \n",
    "#     # Apply filters\n",
    "#     filtered_df = filtered_df[\n",
    "#         market_cap_filter & \n",
    "#         profit_margin_filter & \n",
    "#         sharpe_filter\n",
    "#     ]\n",
    "    \n",
    "#     # Add readable market cap column\n",
    "#     filtered_df['marketCap_B'] = filtered_df['marketCap'] / 1_000_000_000\n",
    "    \n",
    "#     # Sort by market cap\n",
    "#     return filtered_df.sort_values('marketCap', ascending=False)\n",
    "\n",
    "# # Apply filters\n"
   ]
  }
 ],
 "metadata": {
  "kernelspec": {
   "display_name": "portfolio_env",
   "language": "python",
   "name": "python3"
  },
  "language_info": {
   "codemirror_mode": {
    "name": "ipython",
    "version": 3
   },
   "file_extension": ".py",
   "mimetype": "text/x-python",
   "name": "python",
   "nbconvert_exporter": "python",
   "pygments_lexer": "ipython3",
   "version": "3.11.5"
  }
 },
 "nbformat": 4,
 "nbformat_minor": 2
}
