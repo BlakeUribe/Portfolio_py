{
 "cells": [
  {
   "cell_type": "markdown",
   "metadata": {},
   "source": [
    "This Notebook will group stocks in sectors, find top n stocks of resptive sector based on user criteria, then will run a correlation, and find most divesrivfiable stocks (stocks with lowest correlation)"
   ]
  },
  {
   "cell_type": "code",
   "execution_count": 1,
   "metadata": {},
   "outputs": [
    {
     "name": "stdout",
     "output_type": "stream",
     "text": [
      "Current Working Directory: /Users/blakeuribe/Desktop/portfolio_py\n",
      "\n",
      "---------------------------------\n",
      "finance_utils.py successfully loaded, updated last Feb. 04 2025 1:01\n",
      "---------------------------------\n",
      "\n",
      "\n",
      "\n",
      "---------------------------------\n",
      "helpers.py successfully loaded, updated last Feb. 04 2025\n",
      "---------------------------------\n",
      "\n",
      "\n",
      "Updated on 02/05/2025 12:55\n"
     ]
    }
   ],
   "source": [
    "import time\n",
    "import os \n",
    "\n",
    "start_time = time.time() # measure run time\n",
    "\n",
    "WORKSPACE_DIR = os.getenv('WORKSPACE_DIR')\n",
    "if not os.getcwd().endswith('portfolio_py'):\n",
    "    os.chdir(f'{WORKSPACE_DIR}/portfolio_py')\n",
    "print(f'Current Working Directory: {os.getcwd()}')\n",
    "\n",
    "from utils.finance_utils import *\n",
    "from utils.helpers import separate_corr_pairs\n",
    "from utils.config import TOP_N_STOCKS"
   ]
  },
  {
   "cell_type": "markdown",
   "metadata": {},
   "source": [
    "Sector Valuation: Group by sectors, and find best stock in each sector"
   ]
  },
  {
   "cell_type": "code",
   "execution_count": 2,
   "metadata": {},
   "outputs": [
    {
     "data": {
      "text/html": [
       "<div>\n",
       "<style scoped>\n",
       "    .dataframe tbody tr th:only-of-type {\n",
       "        vertical-align: middle;\n",
       "    }\n",
       "\n",
       "    .dataframe tbody tr th {\n",
       "        vertical-align: top;\n",
       "    }\n",
       "\n",
       "    .dataframe thead th {\n",
       "        text-align: right;\n",
       "    }\n",
       "</style>\n",
       "<table border=\"1\" class=\"dataframe\">\n",
       "  <thead>\n",
       "    <tr style=\"text-align: right;\">\n",
       "      <th></th>\n",
       "      <th>marketCap</th>\n",
       "      <th>trailingPE</th>\n",
       "      <th>profitMargins</th>\n",
       "      <th>trailingEps</th>\n",
       "      <th>Tickers</th>\n",
       "      <th>Sharpe_ratios</th>\n",
       "      <th>sector</th>\n",
       "    </tr>\n",
       "  </thead>\n",
       "  <tbody>\n",
       "    <tr>\n",
       "      <th>0</th>\n",
       "      <td>3.048763e+12</td>\n",
       "      <td>49.205574</td>\n",
       "      <td>0.55041</td>\n",
       "      <td>2.53</td>\n",
       "      <td>NVDA</td>\n",
       "      <td>3.295244</td>\n",
       "      <td>Technology</td>\n",
       "    </tr>\n",
       "    <tr>\n",
       "      <th>1</th>\n",
       "      <td>8.113363e+10</td>\n",
       "      <td>30.603773</td>\n",
       "      <td>0.42131</td>\n",
       "      <td>9.54</td>\n",
       "      <td>MAR</td>\n",
       "      <td>2.143484</td>\n",
       "      <td>Consumer Cyclical</td>\n",
       "    </tr>\n",
       "    <tr>\n",
       "      <th>2</th>\n",
       "      <td>1.455590e+11</td>\n",
       "      <td>55.550484</td>\n",
       "      <td>0.40294</td>\n",
       "      <td>2.08</td>\n",
       "      <td>ANET</td>\n",
       "      <td>2.474921</td>\n",
       "      <td>Technology</td>\n",
       "    </tr>\n",
       "    <tr>\n",
       "      <th>3</th>\n",
       "      <td>5.458747e+10</td>\n",
       "      <td>12.749406</td>\n",
       "      <td>0.39410</td>\n",
       "      <td>4.21</td>\n",
       "      <td>MPLX</td>\n",
       "      <td>2.439088</td>\n",
       "      <td>Energy</td>\n",
       "    </tr>\n",
       "    <tr>\n",
       "      <th>4</th>\n",
       "      <td>3.067929e+12</td>\n",
       "      <td>33.254635</td>\n",
       "      <td>0.35608</td>\n",
       "      <td>12.41</td>\n",
       "      <td>MSFT</td>\n",
       "      <td>2.195850</td>\n",
       "      <td>Technology</td>\n",
       "    </tr>\n",
       "  </tbody>\n",
       "</table>\n",
       "</div>"
      ],
      "text/plain": [
       "      marketCap  trailingPE  profitMargins  trailingEps Tickers  \\\n",
       "0  3.048763e+12   49.205574        0.55041         2.53    NVDA   \n",
       "1  8.113363e+10   30.603773        0.42131         9.54     MAR   \n",
       "2  1.455590e+11   55.550484        0.40294         2.08    ANET   \n",
       "3  5.458747e+10   12.749406        0.39410         4.21    MPLX   \n",
       "4  3.067929e+12   33.254635        0.35608        12.41    MSFT   \n",
       "\n",
       "   Sharpe_ratios             sector  \n",
       "0       3.295244         Technology  \n",
       "1       2.143484  Consumer Cyclical  \n",
       "2       2.474921         Technology  \n",
       "3       2.439088             Energy  \n",
       "4       2.195850         Technology  "
      ]
     },
     "execution_count": 2,
     "metadata": {},
     "output_type": "execute_result"
    }
   ],
   "source": [
    "filtered_valuation_df = pd.read_csv(f'{WORKSPACE_DIR}/portfolio_py/data/clean/filtered_valuation_df.csv')\n",
    "# Add sector column to the DataFrame\n",
    "filtered_valuation_df['sector'] = filtered_valuation_df['Tickers'].apply(get_sector)\n",
    "filtered_valuation_df.head()"
   ]
  },
  {
   "cell_type": "code",
   "execution_count": 3,
   "metadata": {},
   "outputs": [
    {
     "name": "stdout",
     "output_type": "stream",
     "text": [
      "\n",
      "----Filtering Df----\n",
      "Filtered based on: Profit Margins\n",
      "Sector Count: 8\n",
      "We have the following sector(s): \n",
      "['Communication Services' 'Consumer Cyclical' 'Energy'\n",
      " 'Financial Services' 'Healthcare' 'Industrials' 'Technology' 'Utilities']\n",
      "\n",
      "Filtered based on: Sharpe Ratio\n",
      "Sector Count: 8\n",
      "We have the following sector(s): \n",
      "['Communication Services' 'Consumer Cyclical' 'Energy'\n",
      " 'Financial Services' 'Healthcare' 'Industrials' 'Technology' 'Utilities']\n"
     ]
    }
   ],
   "source": [
    "# possibly change group by  \n",
    "print('\\n----Filtering Df----')\n",
    "\n",
    "\n",
    "top_stocks_on_profit = get_top_n_by_sector(filtered_valuation_df, filter_var='profitMargins', top_n=3)\n",
    "top_stocks_on_sharpe = get_top_n_by_sector(filtered_valuation_df, filter_var='Sharpe_ratios', top_n=3)\n",
    "\n",
    "print(f'Filtered based on: Profit Margins')\n",
    "print(f\"Sector Count: {len(top_stocks_on_profit['sector'].unique())}\")\n",
    "print(f\"We have the following sector(s): \\n{top_stocks_on_profit['sector'].unique()}\")\n",
    "\n",
    "print(f'\\nFiltered based on: Sharpe Ratio')\n",
    "print(f\"Sector Count: {len(top_stocks_on_sharpe['sector'].unique())}\")\n",
    "print(f\"We have the following sector(s): \\n{top_stocks_on_sharpe['sector'].unique()}\")"
   ]
  },
  {
   "cell_type": "markdown",
   "metadata": {},
   "source": [
    "Diversifaction: Find negative correlated stocks"
   ]
  },
  {
   "cell_type": "code",
   "execution_count": 4,
   "metadata": {},
   "outputs": [
    {
     "name": "stderr",
     "output_type": "stream",
     "text": [
      "[**********************56%**                     ]  9 of 16 completed"
     ]
    },
    {
     "name": "stdout",
     "output_type": "stream",
     "text": [
      "\n",
      "----Begining Diversifaction----\n"
     ]
    },
    {
     "name": "stderr",
     "output_type": "stream",
     "text": [
      "[*********************100%***********************]  16 of 16 completed\n",
      "[*********************100%***********************]  16 of 16 completed\n"
     ]
    }
   ],
   "source": [
    "print('\\n----Begining Diversifaction----')\n",
    "profit_tickers_to_do_corr = top_stocks_on_profit['Tickers'].tolist()\n",
    "top_profit_corr_pairs = get_corr_pairs_of_stocks(profit_tickers_to_do_corr)\n",
    "\n",
    "sharpe_tickers_to_do_corr = top_stocks_on_sharpe['Tickers'].tolist()\n",
    "top_sharpe_corr_pairs = get_corr_pairs_of_stocks(sharpe_tickers_to_do_corr)\n"
   ]
  },
  {
   "cell_type": "markdown",
   "metadata": {},
   "source": [
    "Seperate low corr pairs"
   ]
  },
  {
   "cell_type": "code",
   "execution_count": 5,
   "metadata": {},
   "outputs": [
    {
     "name": "stdout",
     "output_type": "stream",
     "text": [
      "Top Stocks based on Sharpe: ['APP' 'PDD' 'MPLX' 'BKNG' 'META' 'FICO' 'COIN' 'LLY']\n",
      "Top Stocks based on Profit Margin: ['MPLX' 'PDD' 'MAR' 'HLT' 'META' 'ANET' 'MSFT' 'UNP']\n"
     ]
    }
   ],
   "source": [
    "corr_profit_pairs = top_profit_corr_pairs.index.to_list()\n",
    "corr_sharpe_pairs = top_sharpe_corr_pairs.index.to_list()\n",
    "\n",
    "mpt_stocks_for_sharpe = separate_corr_pairs(corr_sharpe_pairs, top_n=TOP_N_STOCKS)\n",
    "mpt_stocks_for_profit = separate_corr_pairs(corr_profit_pairs, top_n=TOP_N_STOCKS)\n",
    "print(f'Top Stocks based on Sharpe: {mpt_stocks_for_sharpe}')\n",
    "print(f'Top Stocks based on Profit Margin: {mpt_stocks_for_profit}')"
   ]
  },
  {
   "cell_type": "code",
   "execution_count": 6,
   "metadata": {},
   "outputs": [],
   "source": [
    "with open('utils/config.py', 'a') as f:\n",
    "    f.write('\\n# New Entry from portfolio_selection.ipynb')\n",
    "    f.write(f'\\nmpt_stocks_for_sharpe = {(mpt_stocks_for_sharpe).tolist()}\\n')\n",
    "    f.write(f'mpt_stocks_for_profit = {(mpt_stocks_for_profit).tolist()}\\n')"
   ]
  }
 ],
 "metadata": {
  "kernelspec": {
   "display_name": "portfolio_env",
   "language": "python",
   "name": "python3"
  },
  "language_info": {
   "codemirror_mode": {
    "name": "ipython",
    "version": 3
   },
   "file_extension": ".py",
   "mimetype": "text/x-python",
   "name": "python",
   "nbconvert_exporter": "python",
   "pygments_lexer": "ipython3",
   "version": "3.11.5"
  }
 },
 "nbformat": 4,
 "nbformat_minor": 2
}
