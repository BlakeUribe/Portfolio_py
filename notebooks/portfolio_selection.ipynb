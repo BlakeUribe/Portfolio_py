{
 "cells": [
  {
   "cell_type": "code",
   "execution_count": 1,
   "metadata": {},
   "outputs": [
    {
     "name": "stdout",
     "output_type": "stream",
     "text": [
      "Current Working Directory: /Users/blakeuribe/Desktop/portfolio_py\n",
      "\n",
      "---------------------------------\n",
      "finance_utils.py successfully loaded, updated last Feb. 04 2025 1:01\n",
      "---------------------------------\n",
      "\n",
      "\n",
      "\n",
      "---------------------------------\n",
      "helpers.py successfully loaded, updated last Feb. 04 2025\n",
      "---------------------------------\n",
      "\n",
      "\n",
      "Updated on 02/04/2025 1:46\n"
     ]
    }
   ],
   "source": [
    "import time\n",
    "import os \n",
    "\n",
    "start_time = time.time() # measure run time\n",
    "\n",
    "WORKSPACE_DIR = os.getenv('WORKSPACE_DIR')\n",
    "if not os.getcwd().endswith('portfolio_py'):\n",
    "    os.chdir(f'{WORKSPACE_DIR}/portfolio_py')\n",
    "print(f'Current Working Directory: {os.getcwd()}')\n",
    "\n",
    "\n",
    "import yfinance as yf\n",
    "# import pandas as pd\n",
    "import numpy as np\n",
    "\n",
    "from utils.finance_utils import *\n",
    "from utils.helpers import separate_corr_pairs\n",
    "\n",
    "from utils.config import PROGRAM_START_DATE, PROGRAM_END_DATE, TOP_N_STOCKS"
   ]
  },
  {
   "cell_type": "markdown",
   "metadata": {},
   "source": [
    "Sector Valuation: Group by sectors, and find best stock in each sector"
   ]
  },
  {
   "cell_type": "code",
   "execution_count": 2,
   "metadata": {},
   "outputs": [
    {
     "data": {
      "text/html": [
       "<div>\n",
       "<style scoped>\n",
       "    .dataframe tbody tr th:only-of-type {\n",
       "        vertical-align: middle;\n",
       "    }\n",
       "\n",
       "    .dataframe tbody tr th {\n",
       "        vertical-align: top;\n",
       "    }\n",
       "\n",
       "    .dataframe thead th {\n",
       "        text-align: right;\n",
       "    }\n",
       "</style>\n",
       "<table border=\"1\" class=\"dataframe\">\n",
       "  <thead>\n",
       "    <tr style=\"text-align: right;\">\n",
       "      <th></th>\n",
       "      <th>marketCap</th>\n",
       "      <th>trailingPE</th>\n",
       "      <th>profitMargins</th>\n",
       "      <th>trailingEps</th>\n",
       "      <th>Tickers</th>\n",
       "      <th>Sharpe_ratios</th>\n",
       "      <th>sector</th>\n",
       "    </tr>\n",
       "  </thead>\n",
       "  <tbody>\n",
       "    <tr>\n",
       "      <th>0</th>\n",
       "      <td>2.905739e+12</td>\n",
       "      <td>46.897236</td>\n",
       "      <td>0.55041</td>\n",
       "      <td>2.53</td>\n",
       "      <td>NVDA</td>\n",
       "      <td>3.295244</td>\n",
       "      <td>Technology</td>\n",
       "    </tr>\n",
       "    <tr>\n",
       "      <th>1</th>\n",
       "      <td>1.414962e+11</td>\n",
       "      <td>53.741630</td>\n",
       "      <td>0.40294</td>\n",
       "      <td>2.09</td>\n",
       "      <td>ANET</td>\n",
       "      <td>2.474921</td>\n",
       "      <td>Technology</td>\n",
       "    </tr>\n",
       "    <tr>\n",
       "      <th>2</th>\n",
       "      <td>5.361997e+10</td>\n",
       "      <td>12.412737</td>\n",
       "      <td>0.39410</td>\n",
       "      <td>4.24</td>\n",
       "      <td>MPLX</td>\n",
       "      <td>2.439091</td>\n",
       "      <td>Energy</td>\n",
       "    </tr>\n",
       "    <tr>\n",
       "      <th>3</th>\n",
       "      <td>3.065550e+12</td>\n",
       "      <td>33.228848</td>\n",
       "      <td>0.35608</td>\n",
       "      <td>12.41</td>\n",
       "      <td>MSFT</td>\n",
       "      <td>2.195851</td>\n",
       "      <td>Technology</td>\n",
       "    </tr>\n",
       "    <tr>\n",
       "      <th>4</th>\n",
       "      <td>1.784178e+12</td>\n",
       "      <td>29.525785</td>\n",
       "      <td>0.35550</td>\n",
       "      <td>23.85</td>\n",
       "      <td>META</td>\n",
       "      <td>3.291678</td>\n",
       "      <td>Communication Services</td>\n",
       "    </tr>\n",
       "  </tbody>\n",
       "</table>\n",
       "</div>"
      ],
      "text/plain": [
       "      marketCap  trailingPE  profitMargins  trailingEps Tickers  \\\n",
       "0  2.905739e+12   46.897236        0.55041         2.53    NVDA   \n",
       "1  1.414962e+11   53.741630        0.40294         2.09    ANET   \n",
       "2  5.361997e+10   12.412737        0.39410         4.24    MPLX   \n",
       "3  3.065550e+12   33.228848        0.35608        12.41    MSFT   \n",
       "4  1.784178e+12   29.525785        0.35550        23.85    META   \n",
       "\n",
       "   Sharpe_ratios                  sector  \n",
       "0       3.295244              Technology  \n",
       "1       2.474921              Technology  \n",
       "2       2.439091                  Energy  \n",
       "3       2.195851              Technology  \n",
       "4       3.291678  Communication Services  "
      ]
     },
     "execution_count": 2,
     "metadata": {},
     "output_type": "execute_result"
    }
   ],
   "source": [
    "filtered_valuation_df = pd.read_csv(f'{WORKSPACE_DIR}/portfolio_py/data/clean/filtered_valuation_df.csv')\n",
    "# Add sector column to the DataFrame\n",
    "filtered_valuation_df['sector'] = filtered_valuation_df['Tickers'].apply(get_sector)\n",
    "filtered_valuation_df.head()"
   ]
  },
  {
   "cell_type": "code",
   "execution_count": 3,
   "metadata": {},
   "outputs": [
    {
     "name": "stdout",
     "output_type": "stream",
     "text": [
      "\n",
      "----Filtering Df----\n",
      "Filtered based on: Profit Margins\n",
      "Sector Count: 8\n",
      "We have the following sector(s): \n",
      "['Communication Services' 'Consumer Cyclical' 'Energy'\n",
      " 'Financial Services' 'Healthcare' 'Industrials' 'Technology' 'Utilities']\n",
      "\n",
      "Filtered based on: Sharpe Ratio\n",
      "Sector Count: 8\n",
      "We have the following sector(s): \n",
      "['Communication Services' 'Consumer Cyclical' 'Energy'\n",
      " 'Financial Services' 'Healthcare' 'Industrials' 'Technology' 'Utilities']\n"
     ]
    }
   ],
   "source": [
    "# possibly change group by  \n",
    "print('\\n----Filtering Df----')\n",
    "\n",
    "\n",
    "top_stocks_on_profit = get_top_n_by_sector(filtered_valuation_df, filter_var='profitMargins', top_n=3)\n",
    "top_stocks_on_sharpe = get_top_n_by_sector(filtered_valuation_df, filter_var='Sharpe_ratios', top_n=3)\n",
    "\n",
    "print(f'Filtered based on: Profit Margins')\n",
    "print(f\"Sector Count: {len(top_stocks_on_profit['sector'].unique())}\")\n",
    "print(f\"We have the following sector(s): \\n{top_stocks_on_profit['sector'].unique()}\")\n",
    "\n",
    "print(f'\\nFiltered based on: Sharpe Ratio')\n",
    "print(f\"Sector Count: {len(top_stocks_on_sharpe['sector'].unique())}\")\n",
    "print(f\"We have the following sector(s): \\n{top_stocks_on_sharpe['sector'].unique()}\")"
   ]
  },
  {
   "cell_type": "markdown",
   "metadata": {},
   "source": [
    "Diversifaction: Find negative correlated portfolios\n",
    "    Gotta get histoical price, and do it on that"
   ]
  },
  {
   "cell_type": "code",
   "execution_count": 4,
   "metadata": {},
   "outputs": [
    {
     "name": "stderr",
     "output_type": "stream",
     "text": [
      "[******************    38%                       ]  6 of 16 completed"
     ]
    },
    {
     "name": "stdout",
     "output_type": "stream",
     "text": [
      "\n",
      "----Begining Diversifaction----\n"
     ]
    },
    {
     "name": "stderr",
     "output_type": "stream",
     "text": [
      "[*********************100%***********************]  16 of 16 completed\n",
      "[*********************100%***********************]  16 of 16 completed\n"
     ]
    }
   ],
   "source": [
    "print('\\n----Begining Diversifaction----')\n",
    "profit_tickers_to_do_corr = top_stocks_on_profit['Tickers'].tolist()\n",
    "top_profit_corr_pairs = get_corr_pairs_of_stocks(profit_tickers_to_do_corr)\n",
    "\n",
    "sharpe_tickers_to_do_corr = top_stocks_on_sharpe['Tickers'].tolist()\n",
    "top_sharpe_corr_pairs = get_corr_pairs_of_stocks(sharpe_tickers_to_do_corr)\n"
   ]
  },
  {
   "cell_type": "markdown",
   "metadata": {},
   "source": [
    "Get Correlation, but need to find a way to find optimal pair, such that corr is low, all around portofolio"
   ]
  },
  {
   "cell_type": "code",
   "execution_count": 5,
   "metadata": {},
   "outputs": [],
   "source": [
    "corr_profit_pairs = top_profit_corr_pairs.index.to_list()\n",
    "corr_sharpe_pairs = top_sharpe_corr_pairs.index.to_list()"
   ]
  },
  {
   "cell_type": "code",
   "execution_count": 6,
   "metadata": {},
   "outputs": [
    {
     "name": "stdout",
     "output_type": "stream",
     "text": [
      "Top Stocks based on Sharpe: ['APP' 'ITUB' 'BKNG' 'MPLX' 'PDD' 'HLT' 'NVDA' 'META']\n",
      "Top Stocks based on Profit Margin: ['BKNG' 'ITUB' 'MPLX' 'ANET' 'HLT' 'PDD' 'NVDA' 'CPRT']\n"
     ]
    }
   ],
   "source": [
    "mpt_stocks_for_sharpe = separate_corr_pairs(corr_sharpe_pairs, top_n=TOP_N_STOCKS)\n",
    "mpt_stocks_for_profit = separate_corr_pairs(corr_profit_pairs, top_n=TOP_N_STOCKS)\n",
    "print(f'Top Stocks based on Sharpe: {mpt_stocks_for_sharpe}')\n",
    "print(f'Top Stocks based on Profit Margin: {mpt_stocks_for_profit}')"
   ]
  },
  {
   "cell_type": "code",
   "execution_count": 7,
   "metadata": {},
   "outputs": [],
   "source": [
    "with open('utils/config.py', 'a') as f:\n",
    "    f.write('\\n# New Entry from portfolio_selection.ipynb')\n",
    "    f.write(f'\\nmpt_stocks_for_sharpe = {(mpt_stocks_for_sharpe).tolist()}\\n')\n",
    "    f.write(f'mpt_stocks_for_profit = {(mpt_stocks_for_profit).tolist()}\\n')"
   ]
  }
 ],
 "metadata": {
  "kernelspec": {
   "display_name": "portfolio_env",
   "language": "python",
   "name": "python3"
  },
  "language_info": {
   "codemirror_mode": {
    "name": "ipython",
    "version": 3
   },
   "file_extension": ".py",
   "mimetype": "text/x-python",
   "name": "python",
   "nbconvert_exporter": "python",
   "pygments_lexer": "ipython3",
   "version": "3.11.5"
  }
 },
 "nbformat": 4,
 "nbformat_minor": 2
}
