{
 "cells": [
  {
   "cell_type": "markdown",
   "metadata": {},
   "source": [
    "This Notebook will group stocks in sectors, find top n stocks of resptive sector based on user criteria, then will run a correlation, and find most divesrivfiable stocks (stocks with lowest correlation)"
   ]
  },
  {
   "cell_type": "code",
   "execution_count": 1,
   "metadata": {},
   "outputs": [
    {
     "name": "stdout",
     "output_type": "stream",
     "text": [
      "Current Working Directory: /Users/blakeuribe/Desktop/portfolio_py\n",
      "\n",
      "---------------------------------\n",
      "finance_utils.py successfully loaded, updated last Feb. 19 2025 10:42\n",
      "---------------------------------\n",
      "\n",
      "\n",
      "\n",
      "---------------------------------\n",
      "helpers.py successfully loaded, updated last Feb. 04 2025\n",
      "---------------------------------\n",
      "\n",
      "\n",
      "Updated on 02/19/2025 11:28\n"
     ]
    }
   ],
   "source": [
    "import time\n",
    "import os \n",
    "\n",
    "start_time = time.time() # measure run time\n",
    "\n",
    "WORKSPACE_DIR = os.getenv('WORKSPACE_DIR')\n",
    "if not os.getcwd().endswith('portfolio_py'):\n",
    "    os.chdir(f'{WORKSPACE_DIR}/portfolio_py')\n",
    "print(f'Current Working Directory: {os.getcwd()}')\n",
    "\n",
    "from utils.finance_utils import *\n",
    "from utils.helpers import separate_corr_pairs\n",
    "from utils.config import TOP_N_STOCKS"
   ]
  },
  {
   "cell_type": "markdown",
   "metadata": {},
   "source": [
    "Sector Valuation: Group by sectors, and find best stock in each sector"
   ]
  },
  {
   "cell_type": "code",
   "execution_count": 2,
   "metadata": {},
   "outputs": [
    {
     "data": {
      "text/html": [
       "<div>\n",
       "<style scoped>\n",
       "    .dataframe tbody tr th:only-of-type {\n",
       "        vertical-align: middle;\n",
       "    }\n",
       "\n",
       "    .dataframe tbody tr th {\n",
       "        vertical-align: top;\n",
       "    }\n",
       "\n",
       "    .dataframe thead th {\n",
       "        text-align: right;\n",
       "    }\n",
       "</style>\n",
       "<table border=\"1\" class=\"dataframe\">\n",
       "  <thead>\n",
       "    <tr style=\"text-align: right;\">\n",
       "      <th></th>\n",
       "      <th>marketCap</th>\n",
       "      <th>trailingPE</th>\n",
       "      <th>profitMargins</th>\n",
       "      <th>trailingEps</th>\n",
       "      <th>Tickers</th>\n",
       "      <th>Sharpe_ratios</th>\n",
       "      <th>sector</th>\n",
       "    </tr>\n",
       "  </thead>\n",
       "  <tbody>\n",
       "    <tr>\n",
       "      <th>0</th>\n",
       "      <td>32601268224</td>\n",
       "      <td>72.881100</td>\n",
       "      <td>0.65343</td>\n",
       "      <td>19.47</td>\n",
       "      <td>TPL</td>\n",
       "      <td>2.160594</td>\n",
       "      <td>Energy</td>\n",
       "    </tr>\n",
       "    <tr>\n",
       "      <th>1</th>\n",
       "      <td>3439865626624</td>\n",
       "      <td>55.299217</td>\n",
       "      <td>0.55685</td>\n",
       "      <td>2.54</td>\n",
       "      <td>NVDA</td>\n",
       "      <td>2.578982</td>\n",
       "      <td>Technology</td>\n",
       "    </tr>\n",
       "    <tr>\n",
       "      <th>2</th>\n",
       "      <td>90229989376</td>\n",
       "      <td>8.160550</td>\n",
       "      <td>0.55097</td>\n",
       "      <td>6.54</td>\n",
       "      <td>MO</td>\n",
       "      <td>2.163501</td>\n",
       "      <td>Consumer Defensive</td>\n",
       "    </tr>\n",
       "    <tr>\n",
       "      <th>3</th>\n",
       "      <td>52238155776</td>\n",
       "      <td>37.858980</td>\n",
       "      <td>0.47814</td>\n",
       "      <td>1.56</td>\n",
       "      <td>HOOD</td>\n",
       "      <td>2.462518</td>\n",
       "      <td>Financial Services</td>\n",
       "    </tr>\n",
       "    <tr>\n",
       "      <th>4</th>\n",
       "      <td>129881251840</td>\n",
       "      <td>46.233180</td>\n",
       "      <td>0.40725</td>\n",
       "      <td>2.23</td>\n",
       "      <td>ANET</td>\n",
       "      <td>2.047055</td>\n",
       "      <td>Technology</td>\n",
       "    </tr>\n",
       "  </tbody>\n",
       "</table>\n",
       "</div>"
      ],
      "text/plain": [
       "       marketCap  trailingPE  profitMargins  trailingEps Tickers  \\\n",
       "0    32601268224   72.881100        0.65343        19.47     TPL   \n",
       "1  3439865626624   55.299217        0.55685         2.54    NVDA   \n",
       "2    90229989376    8.160550        0.55097         6.54      MO   \n",
       "3    52238155776   37.858980        0.47814         1.56    HOOD   \n",
       "4   129881251840   46.233180        0.40725         2.23    ANET   \n",
       "\n",
       "   Sharpe_ratios              sector  \n",
       "0       2.160594              Energy  \n",
       "1       2.578982          Technology  \n",
       "2       2.163501  Consumer Defensive  \n",
       "3       2.462518  Financial Services  \n",
       "4       2.047055          Technology  "
      ]
     },
     "execution_count": 2,
     "metadata": {},
     "output_type": "execute_result"
    }
   ],
   "source": [
    "filtered_valuation_df = pd.read_csv(f'{WORKSPACE_DIR}/portfolio_py/data/clean/filtered_valuation_df.csv')\n",
    "# Add sector column to the DataFrame\n",
    "filtered_valuation_df['sector'] = filtered_valuation_df['Tickers'].apply(get_sector)\n",
    "filtered_valuation_df.head()"
   ]
  },
  {
   "cell_type": "code",
   "execution_count": 3,
   "metadata": {},
   "outputs": [
    {
     "name": "stdout",
     "output_type": "stream",
     "text": [
      "\n",
      "----Filtering Df----\n",
      "Filtered based on: Profit Margins\n",
      "Sector Count: 10\n",
      "We have the following sector(s): \n",
      "['Communication Services' 'Consumer Cyclical' 'Consumer Defensive'\n",
      " 'Energy' 'Financial Services' 'Healthcare' 'Industrials' 'Real Estate'\n",
      " 'Technology' 'Utilities']\n",
      "\n",
      "Filtered based on: Sharpe Ratio\n",
      "Sector Count: 10\n",
      "We have the following sector(s): \n",
      "['Communication Services' 'Consumer Cyclical' 'Consumer Defensive'\n",
      " 'Energy' 'Financial Services' 'Healthcare' 'Industrials' 'Real Estate'\n",
      " 'Technology' 'Utilities']\n"
     ]
    }
   ],
   "source": [
    "# possibly change group by  \n",
    "print('\\n----Filtering Df----')\n",
    "\n",
    "\n",
    "top_stocks_on_profit = get_top_n_by_sector(filtered_valuation_df, filter_var='profitMargins', top_n=3)\n",
    "top_stocks_on_sharpe = get_top_n_by_sector(filtered_valuation_df, filter_var='Sharpe_ratios', top_n=3)\n",
    "\n",
    "print(f'Filtered based on: Profit Margins')\n",
    "print(f\"Sector Count: {len(top_stocks_on_profit['sector'].unique())}\")\n",
    "print(f\"We have the following sector(s): \\n{top_stocks_on_profit['sector'].unique()}\")\n",
    "\n",
    "print(f'\\nFiltered based on: Sharpe Ratio')\n",
    "print(f\"Sector Count: {len(top_stocks_on_sharpe['sector'].unique())}\")\n",
    "print(f\"We have the following sector(s): \\n{top_stocks_on_sharpe['sector'].unique()}\")"
   ]
  },
  {
   "cell_type": "markdown",
   "metadata": {},
   "source": [
    "Diversifaction: Find negative correlated stocks"
   ]
  },
  {
   "cell_type": "code",
   "execution_count": 4,
   "metadata": {},
   "outputs": [
    {
     "name": "stderr",
     "output_type": "stream",
     "text": [
      "[**************        29%                       ]  7 of 24 completed"
     ]
    },
    {
     "name": "stdout",
     "output_type": "stream",
     "text": [
      "\n",
      "----Begining Diversifaction----\n"
     ]
    },
    {
     "name": "stderr",
     "output_type": "stream",
     "text": [
      "[*********************100%***********************]  24 of 24 completed\n",
      "[*********************100%***********************]  24 of 24 completed\n"
     ]
    }
   ],
   "source": [
    "print('\\n----Begining Diversifaction----')\n",
    "profit_tickers_to_do_corr = top_stocks_on_profit['Tickers'].tolist()\n",
    "top_profit_corr_pairs = get_corr_pairs_of_stocks(profit_tickers_to_do_corr)\n",
    "\n",
    "sharpe_tickers_to_do_corr = top_stocks_on_sharpe['Tickers'].tolist()\n",
    "top_sharpe_corr_pairs = get_corr_pairs_of_stocks(sharpe_tickers_to_do_corr)\n"
   ]
  },
  {
   "cell_type": "markdown",
   "metadata": {},
   "source": [
    "Seperate low corr pairs"
   ]
  },
  {
   "cell_type": "code",
   "execution_count": 5,
   "metadata": {},
   "outputs": [
    {
     "name": "stdout",
     "output_type": "stream",
     "text": [
      "Top Stocks based on Sharpe: ['PEG' 'PLTR' 'MO' 'TCOM' 'APP' 'K' 'IBKR' 'NFLX']\n",
      "Top Stocks based on Profit Margin: ['DECK' 'GE' 'K' 'WELL' 'PEG' 'MO' 'TMUS' 'NWG']\n"
     ]
    }
   ],
   "source": [
    "corr_profit_pairs = top_profit_corr_pairs.index.to_list()\n",
    "corr_sharpe_pairs = top_sharpe_corr_pairs.index.to_list()\n",
    "\n",
    "mpt_stocks_for_sharpe = separate_corr_pairs(corr_sharpe_pairs, top_n=TOP_N_STOCKS)\n",
    "mpt_stocks_for_profit = separate_corr_pairs(corr_profit_pairs, top_n=TOP_N_STOCKS)\n",
    "print(f'Top Stocks based on Sharpe: {mpt_stocks_for_sharpe}')\n",
    "print(f'Top Stocks based on Profit Margin: {mpt_stocks_for_profit}')"
   ]
  },
  {
   "cell_type": "code",
   "execution_count": 6,
   "metadata": {},
   "outputs": [],
   "source": [
    "with open('utils/config.py', 'a') as f:\n",
    "    f.write('\\n# New Entry from portfolio_selection.ipynb')\n",
    "    f.write(f'\\nmpt_stocks_for_sharpe = {(mpt_stocks_for_sharpe).tolist()}\\n')\n",
    "    f.write(f'mpt_stocks_for_profit = {(mpt_stocks_for_profit).tolist()}\\n')"
   ]
  }
 ],
 "metadata": {
  "kernelspec": {
   "display_name": "portfolio_env",
   "language": "python",
   "name": "python3"
  },
  "language_info": {
   "codemirror_mode": {
    "name": "ipython",
    "version": 3
   },
   "file_extension": ".py",
   "mimetype": "text/x-python",
   "name": "python",
   "nbconvert_exporter": "python",
   "pygments_lexer": "ipython3",
   "version": "3.11.5"
  }
 },
 "nbformat": 4,
 "nbformat_minor": 2
}
