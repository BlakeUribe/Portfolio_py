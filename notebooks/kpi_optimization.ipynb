{
 "cells": [
  {
   "cell_type": "markdown",
   "metadata": {},
   "source": [
    "### KPI Selection and Filtering\n",
    "\n",
    "1. **Notebook Objective:**\n",
    "\t- This notebook will collect KPIs selected by the user for stocks identified from the Sharpe Ratio calculations\n",
    "\t- It will filter out stocks that underperform the SPY based on their Sharpe Ratio\n",
    "\t- The user can choose which KPIs to analyze\n",
    "\t- The notebook will then filter stocks based on whether their KPIs are above or below the sector median, according to user-defined criteria\n",
    "\t- It will also allow the user to plot the distribution of selected KPIs to identify trends or commonalities\n"
   ]
  },
  {
   "cell_type": "code",
   "execution_count": 2,
   "metadata": {},
   "outputs": [
    {
     "name": "stdout",
     "output_type": "stream",
     "text": [
      "Current Working Directory: /Users/blakeuribe/Desktop/portfolio_py\n"
     ]
    }
   ],
   "source": [
    "import time\n",
    "import os \n",
    "\n",
    "start_time = time.time() # measuring run time\n",
    "\n",
    "WORKSPACE_DIR = os.getenv('WORKSPACE_DIR')\n",
    "if not os.getcwd().endswith('portfolio_py'):\n",
    "    os.chdir(f'{WORKSPACE_DIR}/portfolio_py')\n",
    "print(f'Current Working Directory: {os.getcwd()}')\n",
    "\n",
    "from utils.helpers import divide_chunks\n",
    "\n",
    "import logging\n",
    "from concurrent.futures import ThreadPoolExecutor, as_completed\n",
    "from typing import Dict, List, Optional\n",
    "import pandas as pd\n",
    "from tenacity import retry, stop_after_attempt, wait_exponential\n",
    "from tqdm import tqdm\n",
    "from functools import lru_cache\n",
    "import yfinance as yf"
   ]
  },
  {
   "cell_type": "markdown",
   "metadata": {},
   "source": [
    "Set up logging and batch processing to prevent rate limits or data request rejections."
   ]
  },
  {
   "cell_type": "code",
   "execution_count": 3,
   "metadata": {},
   "outputs": [],
   "source": [
    "# Setup logging, and batching to avoid kickbacks\n",
    "\n",
    "logging.basicConfig(level=logging.INFO)\n",
    "\n",
    "@lru_cache(maxsize=1000)\n",
    "def fetch_ticker_info_cached(ticker_symbol: str) -> Dict[str, Optional[float]]:\n",
    "    \"\"\"\n",
    "    Cached retrieval of ticker info from Yahoo Finance to minimize repeated API calls.\n",
    "    \"\"\"\n",
    "    try:\n",
    "        return yf.Ticker(ticker_symbol).info\n",
    "    except Exception as e:\n",
    "        logging.error(f\"Error fetching data for {ticker_symbol}: {e}\")\n",
    "        return {}\n",
    "\n",
    "@retry(\n",
    "    stop=stop_after_attempt(3),\n",
    "    wait=wait_exponential(multiplier=1, min=4, max=10)\n",
    ")\n",
    "\n",
    "def fetch_with_retry(ticker: str) -> Dict[str, Optional[float]]:\n",
    "    \"\"\"\n",
    "    Retry fetching data for a ticker symbol using tenacity.\n",
    "    \"\"\"\n",
    "    return fetch_ticker_info_cached(ticker)\n",
    "\n",
    "def get_stock_kpis(ticker: str, kpis: List[str]) -> Dict[str, Optional[float]]:\n",
    "    \"\"\"\n",
    "    Fetch KPIs for a specific stock ticker.\n",
    "    \"\"\"\n",
    "    try:\n",
    "        info = fetch_with_retry(ticker)\n",
    "        kpi_data = {kpi: info.get(kpi) for kpi in kpis}\n",
    "        kpi_data['Tickers'] = ticker  # Add ticker column\n",
    "        return kpi_data\n",
    "    except Exception as e:\n",
    "        logging.error(f\"Error processing {ticker}: {e}\")\n",
    "        return {'Tickers': ticker, **{kpi: None for kpi in kpis}}\n",
    "\n",
    "\n",
    "def batch_process_stocks(tickers: List[str], kpis: List[str], max_workers: int = 10) -> pd.DataFrame:\n",
    "    \"\"\"\n",
    "    Process stock tickers in batches using ThreadPoolExecutor for parallel API calls.\n",
    "    \"\"\"\n",
    "    results = []\n",
    "\n",
    "    with ThreadPoolExecutor(max_workers=max_workers) as executor:\n",
    "        future_to_ticker = {\n",
    "            executor.submit(get_stock_kpis, ticker, kpis): ticker\n",
    "            for ticker in tickers\n",
    "        }\n",
    "\n",
    "        for future in tqdm(as_completed(future_to_ticker), total=len(tickers)):\n",
    "            results.append(future.result())\n",
    "\n",
    "    # Create DataFrame from results\n",
    "    df = pd.DataFrame(results)\n",
    "    return df\n"
   ]
  },
  {
   "cell_type": "code",
   "execution_count": 4,
   "metadata": {},
   "outputs": [
    {
     "name": "stdout",
     "output_type": "stream",
     "text": [
      "Spy Sharpe: 0.4\n"
     ]
    }
   ],
   "source": [
    "# Find Benchmark Sharpe\n",
    "\n",
    "sharpe_ratio_df = pd.read_csv(f'{WORKSPACE_DIR}/portfolio_py/data/clean/sharpe_ratios.csv')\n",
    "spy_sharpe = sharpe_ratio_df.loc[sharpe_ratio_df['Tickers'] == 'SPY', 'Sharpe_ratios'].values[0]\n",
    "\n",
    "# Filter only stocks above benchmark\n",
    "sharpe_ratio_df = sharpe_ratio_df[sharpe_ratio_df['Sharpe_ratios'] >= spy_sharpe]\n",
    "\n",
    "print(f'Spy Sharpe: {spy_sharpe.round(2)}')"
   ]
  },
  {
   "cell_type": "code",
   "execution_count": 5,
   "metadata": {},
   "outputs": [
    {
     "name": "stdout",
     "output_type": "stream",
     "text": [
      "\n",
      "----Intiating Chunk Process----\n",
      "56 tikcers divided into 3 chunks\n",
      "\n",
      "----Fethcing KPIs----\n"
     ]
    },
    {
     "name": "stderr",
     "output_type": "stream",
     "text": [
      "100%|██████████| 20/20 [00:00<00:00, 44.75it/s]\n",
      "100%|██████████| 20/20 [00:00<00:00, 43.02it/s]\n",
      "100%|██████████| 16/16 [00:00<00:00, 52.84it/s]\n"
     ]
    },
    {
     "name": "stdout",
     "output_type": "stream",
     "text": [
      "KPI Df Shape: (38, 8)\n"
     ]
    }
   ],
   "source": [
    "# Fetch KPI's\n",
    "\n",
    "num_in_chunks = 20\n",
    "tickers = sharpe_ratio_df['Tickers'].tolist()\n",
    "\n",
    "print('\\n----Intiating Chunk Process----')\n",
    "ticker_chunks = list(divide_chunks(tickers, num_in_chunks))\n",
    "print(f'{len(tickers)} tikcers divided into {len(ticker_chunks)} chunks')\n",
    "        \n",
    "essential_kpis = ['marketCap', 'trailingPE', 'forwardPE', \n",
    "                  'profitMargins', 'trailingEps', 'quickRatio',\n",
    "                  'earningsQuarterlyGrowth'\n",
    "]\n",
    "\n",
    "df_list = []\n",
    "\n",
    "# Loop through each chunk and process the stocks\n",
    "print('\\n----Fethcing KPIs----')\n",
    "for chunk in ticker_chunks:\n",
    "    kpi_df_chunk = batch_process_stocks(chunk, essential_kpis)\n",
    "    df_list.append(kpi_df_chunk)\n",
    "\n",
    "# Concatenate all DataFrames vertically\n",
    "kpi_df = pd.concat(df_list, axis=0, ignore_index=True).dropna()\n",
    "print(f'KPI Df Shape: {kpi_df.shape}')"
   ]
  },
  {
   "cell_type": "code",
   "execution_count": 6,
   "metadata": {},
   "outputs": [
    {
     "data": {
      "image/png": "[encoded data removed]",
      "text/plain": [
       "<Figure size 640x480 with 9 Axes>"
      ]
     },
     "metadata": {},
     "output_type": "display_data"
    }
   ],
   "source": [
    "import numpy as np\n",
    "\n",
    "# Minor data cleaning\n",
    "kpi_df = kpi_df.replace([np.inf, -np.inf], np.nan)  # Replace infinite values with NaN\n",
    "kpi_df['trailingPE'] = kpi_df['trailingPE'].astype(float)\n",
    "kpi_df.select_dtypes(include=['number']).hist(bins=100) # to view distribution\n",
    "\n",
    "valuation_df = pd.merge(kpi_df, sharpe_ratio_df, on='Tickers').dropna()\n",
    "median_values = valuation_df.describe().loc['50%'].to_dict() # Use median as the data often does not follow normal distrubution\n",
    "\n",
    "# Get sectors\n",
    "sector_dict = {} #ticker: sector\n",
    "@retry(stop=stop_after_attempt(5), wait=wait_exponential(multiplier=2, min=1, max=32))\n",
    "def fetch_sector(ticker):\n",
    "    return yf.Ticker(ticker).info.get('sector')\n",
    "\n",
    "for chunk in ticker_chunks:\n",
    "    for ticker in chunk:\n",
    "        try:\n",
    "            sector_dict[ticker] = fetch_sector(ticker)\n",
    "        except Exception as e:\n",
    "            print(f\"Failed to fetch {ticker} after retries: {e}\")\n",
    "\n",
    "sector_df = pd.DataFrame(list(sector_dict.items()), columns=['Tickers', 'Sector'])\n",
    "valuation_df = pd.merge(left=sector_df, right=valuation_df, right_on='Tickers', left_on='Tickers')"
   ]
  },
  {
   "cell_type": "code",
   "execution_count": 7,
   "metadata": {},
   "outputs": [],
   "source": [
    "# used to view distrubution, how ever is fixed, and user will need to change\n",
    "\n",
    "# print(kpi_df['earningsQuarterlyGrowth'].median())\n",
    "# kpi_df['earningsQuarterlyGrowth'].hist(bins=100) # to view distribution"
   ]
  },
  {
   "cell_type": "code",
   "execution_count": 8,
   "metadata": {},
   "outputs": [
    {
     "name": "stderr",
     "output_type": "stream",
     "text": [
      "INFO:root:Final filtered DataFrame saved. Rows: 3\n"
     ]
    },
    {
     "name": "stdout",
     "output_type": "stream",
     "text": [
      "\n",
      "Total Run Time: 9.903995752334595 seconds\n"
     ]
    },
    {
     "data": {
      "text/html": [
       "<div>\n",
       "<style scoped>\n",
       "    .dataframe tbody tr th:only-of-type {\n",
       "        vertical-align: middle;\n",
       "    }\n",
       "\n",
       "    .dataframe tbody tr th {\n",
       "        vertical-align: top;\n",
       "    }\n",
       "\n",
       "    .dataframe thead th {\n",
       "        text-align: right;\n",
       "    }\n",
       "</style>\n",
       "<table border=\"1\" class=\"dataframe\">\n",
       "  <thead>\n",
       "    <tr style=\"text-align: right;\">\n",
       "      <th></th>\n",
       "      <th>Tickers</th>\n",
       "      <th>Sector</th>\n",
       "      <th>marketCap</th>\n",
       "      <th>trailingPE</th>\n",
       "      <th>forwardPE</th>\n",
       "      <th>profitMargins</th>\n",
       "      <th>trailingEps</th>\n",
       "      <th>quickRatio</th>\n",
       "      <th>earningsQuarterlyGrowth</th>\n",
       "      <th>Sharpe_ratios</th>\n",
       "    </tr>\n",
       "  </thead>\n",
       "  <tbody>\n",
       "    <tr>\n",
       "      <th>0</th>\n",
       "      <td>BABA</td>\n",
       "      <td>Consumer Cyclical</td>\n",
       "      <td>285574856704</td>\n",
       "      <td>17.430555</td>\n",
       "      <td>12.079534</td>\n",
       "      <td>0.12316</td>\n",
       "      <td>6.84</td>\n",
       "      <td>0.991</td>\n",
       "      <td>2.375</td>\n",
       "      <td>1.501411</td>\n",
       "    </tr>\n",
       "    <tr>\n",
       "      <th>1</th>\n",
       "      <td>BKNG</td>\n",
       "      <td>Consumer Cyclical</td>\n",
       "      <td>160327860224</td>\n",
       "      <td>28.454815</td>\n",
       "      <td>23.406576</td>\n",
       "      <td>0.24778</td>\n",
       "      <td>172.62</td>\n",
       "      <td>1.237</td>\n",
       "      <td>3.811</td>\n",
       "      <td>1.189560</td>\n",
       "    </tr>\n",
       "    <tr>\n",
       "      <th>2</th>\n",
       "      <td>GS</td>\n",
       "      <td>Financial Services</td>\n",
       "      <td>170918969344</td>\n",
       "      <td>12.771714</td>\n",
       "      <td>13.232676</td>\n",
       "      <td>0.28056</td>\n",
       "      <td>43.06</td>\n",
       "      <td>2.039</td>\n",
       "      <td>0.147</td>\n",
       "      <td>0.980237</td>\n",
       "    </tr>\n",
       "  </tbody>\n",
       "</table>\n",
       "</div>"
      ],
      "text/plain": [
       "  Tickers              Sector     marketCap  trailingPE  forwardPE  \\\n",
       "0    BABA   Consumer Cyclical  285574856704   17.430555  12.079534   \n",
       "1    BKNG   Consumer Cyclical  160327860224   28.454815  23.406576   \n",
       "2      GS  Financial Services  170918969344   12.771714  13.232676   \n",
       "\n",
       "   profitMargins  trailingEps  quickRatio  earningsQuarterlyGrowth  \\\n",
       "0        0.12316         6.84       0.991                    2.375   \n",
       "1        0.24778       172.62       1.237                    3.811   \n",
       "2        0.28056        43.06       2.039                    0.147   \n",
       "\n",
       "   Sharpe_ratios  \n",
       "0       1.501411  \n",
       "1       1.189560  \n",
       "2       0.980237  "
      ]
     },
     "execution_count": 8,
     "metadata": {},
     "output_type": "execute_result"
    }
   ],
   "source": [
    "#filtering\n",
    "\n",
    "grouped = valuation_df.groupby(['Sector']).median(numeric_only=True)\n",
    "\n",
    "merged_df = pd.merge(valuation_df, grouped, on='Sector', suffixes=('_stock', '_sector'))\n",
    "\n",
    "merged_df = merged_df[merged_df['Sharpe_ratios_stock'] >= merged_df['Sharpe_ratios_sector']] # above median sharpe, this is a performance measure\n",
    "merged_df = merged_df[merged_df['profitMargins_stock'] >= merged_df['profitMargins_sector']] # above median prof margin, this is a performance measure\n",
    "merged_df = merged_df[merged_df['trailingPE_stock'] <= merged_df['trailingPE_sector']] # below median trailing pe ratio, this is a risk adverse measure; sharpe ratio does not take into account over valuation\n",
    "merged_df = merged_df[merged_df['quickRatio_stock'] >= merged_df['quickRatio_sector']] # above median quick ratio, this is a risk adverse measure; sharpe ratio does not take into account over leveraged\n",
    "merged_df = merged_df[merged_df['earningsQuarterlyGrowth_stock'] >= 0]\n",
    "\n",
    "stock_cols_only = [col for col in merged_df.columns if '_sector' not in col]\n",
    "filtered_valuation_df = merged_df[stock_cols_only] # export only stock info, no need for sector info\n",
    "\n",
    "filtered_valuation_df.columns = filtered_valuation_df.columns.str.replace('_stock', '', regex=False) # clean up excesive stock col name\n",
    "\n",
    "\n",
    "filtered_valuation_df.to_csv(f'{WORKSPACE_DIR}/portfolio_py/data/clean/filtered_valuation_df.csv', index=False)\n",
    "logging.info(f\"Final filtered DataFrame saved. Rows: {filtered_valuation_df.shape[0]}\")\n",
    "\n",
    "# Print the sorted DataFrame (Optional)\n",
    "\n",
    "end_time = time.time()\n",
    "elapsed_time = end_time - start_time\n",
    "print(f'\\nTotal Run Time: {elapsed_time} seconds')\n",
    "filtered_valuation_df.reset_index(drop=True)"
   ]
  }
 ],
 "metadata": {
  "kernelspec": {
   "display_name": "portfolio_env",
   "language": "python",
   "name": "python3"
  },
  "language_info": {
   "codemirror_mode": {
    "name": "ipython",
    "version": 3
   },
   "file_extension": ".py",
   "mimetype": "text/x-python",
   "name": "python",
   "nbconvert_exporter": "python",
   "pygments_lexer": "ipython3",
   "version": "3.11.5"
  }
 },
 "nbformat": 4,
 "nbformat_minor": 2
}
