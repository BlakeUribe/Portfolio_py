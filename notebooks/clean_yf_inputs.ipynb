{
 "cells": [
  {
   "cell_type": "code",
   "execution_count": 115,
   "id": "48fcfe4f",
   "metadata": {},
   "outputs": [],
   "source": [
    "import yfinance as yf\n",
    "import pandas as pd\n",
    "import os \n",
    "\n",
    "WORKSPACE_DIR = os.getenv('WORKSPACE_DIR')"
   ]
  },
  {
   "cell_type": "code",
   "execution_count": null,
   "id": "5778956e",
   "metadata": {},
   "outputs": [],
   "source": [
    "etf_df = pd.read_csv(f'{WORKSPACE_DIR}/portfolio_py/data/raw/ETFs.csv')[['Symbol']] # include all etfs with NYSE stocks\n",
    "etf_df.rename(columns={'Symbol': 'ticker'}, inplace=True)\n",
    "ticker_list = etf_df['ticker'].to_list()"
   ]
  },
  {
   "cell_type": "code",
   "execution_count": null,
   "id": "8b4dd10b",
   "metadata": {},
   "outputs": [
    {
     "name": "stderr",
     "output_type": "stream",
     "text": [
      "\n",
      "20 Failed downloads:\n",
      "['BABS', 'AXFN', 'BDG', 'AGA', 'ADRE', 'BAL', 'BICK', 'BRIS', 'BRIL', 'ADRU', 'ADRD', 'AYT', 'ADRA', 'BDH', 'BGZ', 'BNZ', 'BGU', 'BHH', 'BIK', 'AMJ']: YFPricesMissingError('possibly delisted; no price data found  (period=1d)')\n"
     ]
    },
    {
     "name": "stdout",
     "output_type": "stream",
     "text": [
      "Completed Batch Number: 1/ 20.4\n"
     ]
    },
    {
     "name": "stderr",
     "output_type": "stream",
     "text": [
      "\n",
      "32 Failed downloads:\n",
      "['BSC', 'CRBI', 'CHIX', 'COW', 'CFT', 'CRO', 'BXUC', 'CLY', 'CIU', 'CHIE', 'BXDB', 'CHIM', 'CSJ', 'BXDD', 'CSLS', 'CXA', 'BVL', 'BZF', 'CNY', 'BXDC', 'CHII', 'CRBA', 'BVT', 'CU', 'CHIB', 'CPI', 'BXUB']: YFPricesMissingError('possibly delisted; no price data found  (period=1d)')\n",
      "['BRXX', 'CRBQ', 'CHXX', 'CMD', 'BWV']: YFPricesMissingError('possibly delisted; no price data found  (period=1d) (Yahoo error = \"No data found, symbol may be delisted\")')\n"
     ]
    },
    {
     "name": "stdout",
     "output_type": "stream",
     "text": [
      "Completed Batch Number: 1/ 20.4\n"
     ]
    },
    {
     "name": "stderr",
     "output_type": "stream",
     "text": [
      "\n",
      "20 Failed downloads:\n",
      "['CYB', 'DGG', 'DBU', 'DBR', 'DKA', 'DDG', 'CZM', 'DENT', 'CZI', 'DBV', 'DMM', 'DGL', 'DJCI', 'DEB', 'DBS', 'DNH', 'DBT', 'DBN', 'DNO', 'DND']: YFPricesMissingError('possibly delisted; no price data found  (period=1d)')\n"
     ]
    },
    {
     "name": "stdout",
     "output_type": "stream",
     "text": [
      "Completed Batch Number: 1/ 20.4\n"
     ]
    },
    {
     "name": "stderr",
     "output_type": "stream",
     "text": [
      "\n",
      "20 Failed downloads:\n",
      "['DSG', 'DSC', 'EFN', 'DPN', 'EEZ', 'EEG', 'DOD', 'DXO', 'DRF', 'DTO', 'EEH', 'EEN', 'DPK', 'DOY', 'DRR', 'DPC', 'DSV', 'EEO', 'EEB', 'DZK']: YFPricesMissingError('possibly delisted; no price data found  (period=1d)')\n"
     ]
    },
    {
     "name": "stdout",
     "output_type": "stream",
     "text": [
      "Completed Batch Number: 1/ 20.4\n"
     ]
    },
    {
     "name": "stderr",
     "output_type": "stream",
     "text": [
      "\n",
      "11 Failed downloads:\n",
      "['EMMT', 'EMT', 'EKH', 'EMV', 'ENY', 'ELG', 'EMFN', 'ELR', 'ESR', 'EGPT', 'EMG']: YFPricesMissingError('possibly delisted; no price data found  (period=1d)')\n"
     ]
    },
    {
     "name": "stdout",
     "output_type": "stream",
     "text": [
      "Completed Batch Number: 1/ 20.4\n"
     ]
    },
    {
     "name": "stderr",
     "output_type": "stream",
     "text": [
      "\n",
      "14 Failed downloads:\n",
      "['FAA', 'EXB', 'FEFN', 'FCV', 'FOC', 'FNI', 'FRN', 'FIVZ', 'FMV', 'FKL', 'EXT', 'FIO']: YFPricesMissingError('possibly delisted; no price data found  (period=1d)')\n",
      "['EZY', 'FCHI']: YFPricesMissingError('possibly delisted; no price data found  (period=1d) (Yahoo error = \"No data found, symbol may be delisted\")')\n"
     ]
    },
    {
     "name": "stdout",
     "output_type": "stream",
     "text": [
      "Completed Batch Number: 1/ 20.4\n"
     ]
    },
    {
     "name": "stderr",
     "output_type": "stream",
     "text": [
      "\n",
      "17 Failed downloads:\n",
      "['GLJ', 'GMTB', 'FUD', 'GOE', 'FXM', 'GAF', 'FZB', 'GMMB', 'GRES', 'GAZ', 'FXS', 'FUE', 'GML', 'FVI', 'FVL', 'GBB']: YFPricesMissingError('possibly delisted; no price data found  (period=1d)')\n",
      "['FTY']: YFPricesMissingError('possibly delisted; no price data found  (period=1d) (Yahoo error = \"No data found, symbol may be delisted\")')\n"
     ]
    },
    {
     "name": "stdout",
     "output_type": "stream",
     "text": [
      "Completed Batch Number: 1/ 20.4\n"
     ]
    },
    {
     "name": "stderr",
     "output_type": "stream",
     "text": [
      "\n",
      "20 Failed downloads:\n",
      "['GSO', 'GSZ', 'ICI', 'GWO', 'IFEU', 'GSR', 'ICN', 'IFAS', 'GSW', 'GUR', 'IAH', 'GXF', 'GULF', 'GSP', 'GRU', 'GVT', 'GWL', 'HGI']: YFPricesMissingError('possibly delisted; no price data found  (period=1d)')\n",
      "['GSD', 'IFNA']: YFPricesMissingError('possibly delisted; no price data found  (period=1d) (Yahoo error = \"No data found, symbol may be delisted\")')\n"
     ]
    },
    {
     "name": "stdout",
     "output_type": "stream",
     "text": [
      "Completed Batch Number: 1/ 20.4\n"
     ]
    },
    {
     "name": "stderr",
     "output_type": "stream",
     "text": [
      "\n",
      "20 Failed downloads:\n",
      "['IPN', 'IPK', 'IRO', 'IRV', 'ITR', 'ITF', 'IPU', 'IGW', 'INY', 'IIH', 'ISI', 'IPF', 'IPE', 'IPS', 'IST', 'INP', 'INDZ', 'IRY', 'IPD']: YFPricesMissingError('possibly delisted; no price data found  (period=1d)')\n",
      "['IFSM']: YFPricesMissingError('possibly delisted; no price data found  (period=1d) (Yahoo error = \"No data found, symbol may be delisted\")')\n"
     ]
    },
    {
     "name": "stdout",
     "output_type": "stream",
     "text": [
      "Completed Batch Number: 1/ 20.4\n"
     ]
    },
    {
     "name": "stderr",
     "output_type": "stream",
     "text": [
      "\n",
      "14 Failed downloads:\n",
      "['JFT', 'JJN', 'JJP', 'JJA', 'JJC', 'IWZ', 'JJU', 'JJS', 'IWW', 'JJM', 'JJG', 'JJT', 'JJE']: YFPricesMissingError('possibly delisted; no price data found  (period=1d)')\n",
      "['JCO']: YFPricesMissingError('possibly delisted; no price data found  (period=1d) (Yahoo error = \"No data found, symbol may be delisted\")')\n"
     ]
    },
    {
     "name": "stdout",
     "output_type": "stream",
     "text": [
      "Completed Batch Number: 1/ 20.4\n"
     ]
    },
    {
     "name": "stderr",
     "output_type": "stream",
     "text": [
      "\n",
      "25 Failed downloads:\n",
      "['JSC', 'KOL', 'KME', 'JYF', 'LSO', 'LSC', 'LVL', 'JPX', 'LATM', 'LWC', 'JO', 'LHB', 'KROO', 'MKH', 'MCRO', 'LBJ', 'LD', 'MDD', 'JVS', 'JYN']: YFPricesMissingError('possibly delisted; no price data found  (period=1d)')\n",
      "['JPP', 'KRS', 'LAG', 'MES', 'KRU']: YFPricesMissingError('possibly delisted; no price data found  (period=1d) (Yahoo error = \"No data found, symbol may be delisted\")')\n"
     ]
    },
    {
     "name": "stdout",
     "output_type": "stream",
     "text": [
      "Completed Batch Number: 1/ 20.4\n"
     ]
    },
    {
     "name": "stderr",
     "output_type": "stream",
     "text": [
      "\n",
      "28 Failed downloads:\n",
      "['PAO', 'ONEF', 'OTP', 'MZG', 'PAF', 'NFO', 'MUAD', 'OIL', 'PCA', 'NY', 'NIB', 'MUAF', 'OOK', 'PAGG', 'MUAE', 'OTR', 'MLPI', 'MZN', 'PBTQ', 'MLPN', 'MUAC', 'MWJ', 'MTK', 'MUAB', 'NUCL', 'MZO', 'MUAA', 'MWN']: YFPricesMissingError('possibly delisted; no price data found  (period=1d)')\n"
     ]
    },
    {
     "name": "stdout",
     "output_type": "stream",
     "text": [
      "Completed Batch Number: 1/ 20.4\n"
     ]
    },
    {
     "name": "stderr",
     "output_type": "stream",
     "text": [
      "\n",
      "20 Failed downloads:\n",
      "['PJB', 'PKN', 'PIQ', 'PGD', 'PNXQ', 'PKOL', 'PJM', 'PEF', 'PGM', 'PIV', 'PJG', 'PMNA', 'PJO', 'PFA', 'PMA', 'PMY', 'PJF', 'PLK', 'PLND']: YFPricesMissingError('possibly delisted; no price data found  (period=1d)')\n",
      "['PIC']: YFPricesMissingError('possibly delisted; no price data found  (period=1d) (Yahoo error = \"No data found, symbol may be delisted\")')\n"
     ]
    },
    {
     "name": "stdout",
     "output_type": "stream",
     "text": [
      "Completed Batch Number: 1/ 20.4\n"
     ]
    },
    {
     "name": "stderr",
     "output_type": "stream",
     "text": [
      "\n",
      "20 Failed downloads:\n",
      "['PTO', 'PWT', 'PWY', 'PUW', 'PTJ', 'PXN', 'PTM', 'PQSC', 'PWND', 'PXR', 'PYH', 'PWO', 'PQY', 'PTRP', 'PQZ', 'PSAU', 'PTD', 'PQBW']: YFPricesMissingError('possibly delisted; no price data found  (period=1d)')\n",
      "['PTE', 'PRB']: YFPricesMissingError('possibly delisted; no price data found  (period=1d) (Yahoo error = \"No data found, symbol may be delisted\")')\n"
     ]
    },
    {
     "name": "stdout",
     "output_type": "stream",
     "text": [
      "Completed Batch Number: 1/ 20.4\n"
     ]
    },
    {
     "name": "stderr",
     "output_type": "stream",
     "text": [
      "\n",
      "24 Failed downloads:\n",
      "['RJN', 'RKH', 'RPQ', 'PZJ', 'RBL', 'QQQQ', 'RJZ', 'RMS', 'RRZ', 'RJA', 'REA', 'RRY', 'RHO', 'REC', 'RFN', 'RSU', 'RFF', 'RJI', 'PZI', 'RHM', 'ROB', 'RSW']: YFPricesMissingError('possibly delisted; no price data found  (period=1d)')\n",
      "['RPX', 'ROI']: YFPricesMissingError('possibly delisted; no price data found  (period=1d) (Yahoo error = \"No data found, symbol may be delisted\")')\n"
     ]
    },
    {
     "name": "stdout",
     "output_type": "stream",
     "text": [
      "Completed Batch Number: 1/ 20.4\n"
     ]
    },
    {
     "name": "stderr",
     "output_type": "stream",
     "text": [
      "\n",
      "9 Failed downloads:\n",
      "['SDK', 'RTR', 'SCPB', 'RWW', 'RWV', 'SBM', 'RTG']: YFPricesMissingError('possibly delisted; no price data found  (period=1d)')\n",
      "['RWG', 'RTL']: YFPricesMissingError('possibly delisted; no price data found  (period=1d) (Yahoo error = \"No data found, symbol may be delisted\")')\n"
     ]
    },
    {
     "name": "stdout",
     "output_type": "stream",
     "text": [
      "Completed Batch Number: 1/ 20.4\n"
     ]
    },
    {
     "name": "stderr",
     "output_type": "stream",
     "text": [
      "\n",
      "14 Failed downloads:\n",
      "['SFK', 'SZR', 'TDH', 'SGG', 'SPGH', 'SJF', 'SJH', 'SWH', 'TAO', 'STH', 'TDD', 'TDN', 'SJL']: YFPricesMissingError('possibly delisted; no price data found  (period=1d)')\n",
      "['SMK']: YFPricesMissingError('possibly delisted; no price data found  (period=1d) (Yahoo error = \"No data found, symbol may be delisted\")')\n"
     ]
    },
    {
     "name": "stdout",
     "output_type": "stream",
     "text": [
      "Completed Batch Number: 1/ 20.4\n"
     ]
    },
    {
     "name": "stderr",
     "output_type": "stream",
     "text": [
      "\n",
      "28 Failed downloads:\n",
      "['TZO', 'UBC', 'UBN', 'TLO', 'UBM', 'TWOZ', 'TDX', 'TWOL', 'UCD', 'TZD', 'UBD', 'TWQ', 'TWON', 'TZI', 'UCI', 'TZG', 'TXF', 'TYH', 'TTH', 'UAG', 'TUZ', 'TZL', 'TZV', 'TENZ', 'TLL', 'UBG']: YFPricesMissingError('possibly delisted; no price data found  (period=1d)')\n",
      "['TGR', 'TYP']: YFPricesMissingError('possibly delisted; no price data found  (period=1d) (Yahoo error = \"No data found, symbol may be delisted\")')\n"
     ]
    },
    {
     "name": "stdout",
     "output_type": "stream",
     "text": [
      "Completed Batch Number: 1/ 20.4\n"
     ]
    },
    {
     "name": "stderr",
     "output_type": "stream",
     "text": [
      "\n",
      "17 Failed downloads:\n",
      "['USY', 'UKF', 'UOY', 'UVU', 'ULQ', 'UMM', 'UVT', 'UHN', 'UWC', 'URR', 'UXJ', 'UKK', 'USV', 'UTH', 'UVG', 'UKW']: YFPricesMissingError('possibly delisted; no price data found  (period=1d)')\n",
      "['UMX']: YFPricesMissingError('possibly delisted; no price data found  (period=1d) (Yahoo error = \"No data found, symbol may be delisted\")')\n"
     ]
    },
    {
     "name": "stdout",
     "output_type": "stream",
     "text": [
      "Completed Batch Number: 1/ 20.4\n"
     ]
    },
    {
     "name": "stderr",
     "output_type": "stream",
     "text": [
      "\n",
      "10 Failed downloads:\n",
      "['XLIS', 'XLBS', 'WFVK', 'XLKS', 'XLFS', 'XLES', 'WCAT', 'VRD', 'XLPS', 'WMH']: YFPricesMissingError('possibly delisted; no price data found  (period=1d)')\n"
     ]
    },
    {
     "name": "stdout",
     "output_type": "stream",
     "text": [
      "Completed Batch Number: 1/ 20.4\n"
     ]
    },
    {
     "name": "stderr",
     "output_type": "stream",
     "text": [
      "\n",
      "7 Failed downloads:\n",
      "['XRU', 'XLYS', 'XLUS', 'YAO', 'XLVS', 'XRO']: YFPricesMissingError('possibly delisted; no price data found  (period=1d)')\n",
      "['YCL']: DNSError('Failed to perform, curl: (6) Could not resolve host: query2.finance.yahoo.com. See https://curl.se/libcurl/c/libcurl-errors.html first for more details.')\n"
     ]
    },
    {
     "name": "stdout",
     "output_type": "stream",
     "text": [
      "Completed Batch Number: 1/ 20.4\n"
     ]
    }
   ],
   "source": [
    "import time\n",
    "import random\n",
    "\n",
    "results = {} # intended format as in ticker: Has_data?\n",
    "counter = 1\n",
    "n = 50\n",
    "total_batch_num = len(ticker_list)/ n\n",
    "\n",
    "def batch_list(lst, batch_size):\n",
    "    for i in range(0, len(lst), batch_size):\n",
    "        yield lst[i:i + batch_size]\n",
    "        \n",
    "\n",
    "for ticker_batch in batch_list(ticker_list, n):\n",
    "    try:\n",
    "        data = yf.download(tickers=ticker_batch, period=\"1d\", group_by='ticker', threads=True, progress=False)\n",
    "        \n",
    "        for ticker in data.columns.levels[0]: # loop see if sub df has data\n",
    "            # Select sub-DataFrame for this ticker\n",
    "            sub_df = data[ticker]\n",
    "            \n",
    "            # Check if all values are NaN or empty in this ticker's data\n",
    "            results[ticker] = sub_df.notna().all().all()\n",
    "    \n",
    "    except Exception as e:\n",
    "        print(f\"Error downloading batch {ticker_batch}: {e}\")\n",
    "        # Mark all tickers in this batch as False on error\n",
    "        #for ticker in ticker_batch:\n",
    "            #results[ticker] = False\n",
    "\n",
    "    # Randomized backoff between 1 and 3 seconds\n",
    "    time.sleep(random.uniform(1, 3))\n",
    "    print(f'Completed Batch Number: {counter}/ {total_batch_num}')\n",
    "    counter += 1\n",
    "\n",
    "    "
   ]
  },
  {
   "cell_type": "code",
   "execution_count": 125,
   "id": "28ac575c",
   "metadata": {},
   "outputs": [],
   "source": [
    "etf_df_cleaned = pd.DataFrame.from_dict(results, orient='index', columns=['Have_Data'])\n",
    "etf_df_cleaned.index.name = 'ticker'\n",
    "\n",
    "etf_df_cleaned.to_csv(f'{WORKSPACE_DIR}/portfolio_py/data/raw/etf_data_cleaned.csv')\n"
   ]
  }
 ],
 "metadata": {
  "kernelspec": {
   "display_name": "portfolio_env",
   "language": "python",
   "name": "python3"
  },
  "language_info": {
   "codemirror_mode": {
    "name": "ipython",
    "version": 3
   },
   "file_extension": ".py",
   "mimetype": "text/x-python",
   "name": "python",
   "nbconvert_exporter": "python",
   "pygments_lexer": "ipython3",
   "version": "3.11.5"
  }
 },
 "nbformat": 4,
 "nbformat_minor": 5
}
