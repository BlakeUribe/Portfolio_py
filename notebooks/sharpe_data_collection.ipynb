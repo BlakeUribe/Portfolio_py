{
 "cells": [
  {
   "cell_type": "markdown",
   "metadata": {},
   "source": [
    "Collect and Store Sharpe Values"
   ]
  },
  {
   "cell_type": "code",
   "execution_count": 1,
   "metadata": {},
   "outputs": [
    {
     "name": "stdout",
     "output_type": "stream",
     "text": [
      "Current Working Directory: /Users/blakeuribe/Desktop/portfolio_py\n",
      "\n",
      "---------------------------------\n",
      "finance_utils.py successfully loaded, updated last Feb. 07 2025 3.11\n",
      "---------------------------------\n",
      "\n",
      "\n",
      "\n",
      "---------------------------------\n",
      "helpers.py successfully loaded, updated last Feb. 04 2025\n",
      "---------------------------------\n",
      "\n",
      "\n",
      "Updated on 02/10/2025 8:54\n"
     ]
    }
   ],
   "source": [
    "import time\n",
    "import os \n",
    "\n",
    "start_time = time.time()\n",
    "\n",
    "WORKSPACE_DIR = os.getenv('WORKSPACE_DIR')\n",
    "\n",
    "if not os.getcwd().endswith('portfolio_py'):\n",
    "    os.chdir(f'{WORKSPACE_DIR}/portfolio_py')\n",
    "print(f'Current Working Directory: {os.getcwd()}')\n",
    "\n",
    "from utils.finance_utils import calculate_sharpe_ratio\n",
    "from utils.helpers import divide_chunks\n",
    "from utils.config import PROGRAM_START_DATE, PROGRAM_END_DATE"
   ]
  },
  {
   "cell_type": "code",
   "execution_count": 2,
   "metadata": {},
   "outputs": [],
   "source": [
    "from dotenv import load_dotenv\n",
    "\n",
    "import yfinance as yf\n",
    "import numpy as np\n",
    "import pandas as pd\n",
    "\n",
    "from datetime import datetime\n",
    "from dateutil.relativedelta import relativedelta"
   ]
  },
  {
   "cell_type": "code",
   "execution_count": 3,
   "metadata": {},
   "outputs": [
    {
     "name": "stdout",
     "output_type": "stream",
     "text": [
      "Ending Program at: 2025-01-01\n",
      "Starting Program at: 2024-01-01\n"
     ]
    }
   ],
   "source": [
    "load_dotenv()\n",
    "\n",
    "print(f'Ending Program at: {PROGRAM_END_DATE}')\n",
    "print(f'Starting Program at: {PROGRAM_START_DATE}')"
   ]
  },
  {
   "cell_type": "markdown",
   "metadata": {},
   "source": [
    "Begin Collecting Supportive Data in Calculations"
   ]
  },
  {
   "cell_type": "code",
   "execution_count": 4,
   "metadata": {},
   "outputs": [
    {
     "name": "stderr",
     "output_type": "stream",
     "text": [
      "[*********************100%***********************]  1 of 1 completed\n",
      "[*********************100%***********************]  1 of 1 completed\n"
     ]
    }
   ],
   "source": [
    "# Download and import data\n",
    "ticker_df = pd.read_json(f'{WORKSPACE_DIR}/portfolio_py/data/raw/company_tickers.json')\n",
    "ticker_df = ticker_df.T.drop(columns=['cik_str', 'title'])\n",
    "\n",
    "tbill_data = yf.download('^IRX', start=PROGRAM_START_DATE, end=PROGRAM_END_DATE, auto_adjust=True)['Close']\n",
    "tbill_data = tbill_data / 100 / 360  # Convert to daily rate\n",
    "\n",
    "spy_sharpe = calculate_sharpe_ratio(np.array('spy'), tbill=tbill_data, start_date=PROGRAM_START_DATE, end_date=PROGRAM_END_DATE)"
   ]
  },
  {
   "cell_type": "markdown",
   "metadata": {},
   "source": [
    "Begin Calculating Sharpe Values"
   ]
  },
  {
   "cell_type": "code",
   "execution_count": 5,
   "metadata": {},
   "outputs": [
    {
     "name": "stderr",
     "output_type": "stream",
     "text": [
      "[*******************   40%                       ]  6 of 15 completed"
     ]
    },
    {
     "name": "stdout",
     "output_type": "stream",
     "text": [
      "----Dividing Into Chunks----\n",
      "Divided 500 tickers into 34 chunks\n",
      "\n",
      "----Collecting Sharpe Ratios----\n"
     ]
    },
    {
     "name": "stderr",
     "output_type": "stream",
     "text": [
      "[*********************100%***********************]  15 of 15 completed\n",
      "[*********************100%***********************]  15 of 15 completed\n",
      "[*********************100%***********************]  15 of 15 completed\n",
      "[*********************100%***********************]  15 of 15 completed\n",
      "[*********************100%***********************]  15 of 15 completed\n",
      "[*********************100%***********************]  15 of 15 completed\n",
      "[*********************100%***********************]  15 of 15 completed\n",
      "[*********************100%***********************]  15 of 15 completed\n",
      "[*********************100%***********************]  15 of 15 completed\n",
      "[*********************100%***********************]  15 of 15 completed\n",
      "[*********************100%***********************]  15 of 15 completed\n",
      "[*********************100%***********************]  15 of 15 completed\n",
      "[*********************100%***********************]  15 of 15 completed\n",
      "[*********************100%***********************]  15 of 15 completed\n",
      "[*********************100%***********************]  15 of 15 completed\n",
      "[*********************100%***********************]  15 of 15 completed\n",
      "[*********************100%***********************]  15 of 15 completed\n",
      "[*********************100%***********************]  15 of 15 completed\n",
      "[*********************100%***********************]  15 of 15 completed\n",
      "[*********************100%***********************]  15 of 15 completed\n",
      "[*********************100%***********************]  15 of 15 completed\n",
      "[*********************100%***********************]  15 of 15 completed\n",
      "[*********************100%***********************]  15 of 15 completed\n",
      "[*********************100%***********************]  15 of 15 completed\n",
      "[*********************100%***********************]  15 of 15 completed\n",
      "[*********************100%***********************]  15 of 15 completed\n",
      "[*********************100%***********************]  15 of 15 completed\n",
      "[*********************100%***********************]  14 of 15 completed\n",
      "\n",
      "1 Failed download:\n",
      "['ETR']: YFPricesMissingError('$%ticker%: possibly delisted; no price data found  (1d 2024-01-01 -> 2025-01-01)')\n",
      "/Users/blakeuribe/Desktop/portfolio_py/utils/finance_utils.py:230: FutureWarning: The default fill_method='pad' in DataFrame.pct_change is deprecated and will be removed in a future version. Either fill in any non-leading NA values prior to calling pct_change or specify 'fill_method=None' to not fill NA values.\n",
      "  daily_returns = stock_data.pct_change()\n",
      "[*********************100%***********************]  15 of 15 completed\n",
      "[*********************100%***********************]  15 of 15 completed\n",
      "[*********************100%***********************]  15 of 15 completed\n",
      "[*********************100%***********************]  15 of 15 completed\n",
      "[*********************100%***********************]  15 of 15 completed\n",
      "[*********************100%***********************]  5 of 5 completed"
     ]
    },
    {
     "name": "stdout",
     "output_type": "stream",
     "text": [
      "\n",
      "----Df Report----\n",
      "Pct of NaN values is: 3.0%\n",
      "Nan Values are below threshold, Successfully Exported\n",
      "\n",
      "----Time Report----\n",
      "Processing time: 15.69 seconds, for 500 Tickers\n"
     ]
    },
    {
     "name": "stderr",
     "output_type": "stream",
     "text": [
      "\n"
     ]
    }
   ],
   "source": [
    "\n",
    "# Set chunk size and number of stocks\n",
    "num_in_chunks = 15\n",
    "num_of_stocks_to_get = 500  # Adjust as needed\n",
    "\n",
    "# Get tickers and divide into chunks\n",
    "\n",
    "print('----Dividing Into Chunks----')\n",
    "tickers = ticker_df['ticker'][0:num_of_stocks_to_get]  # Remove .tolist() here\n",
    "ticker_chunks = list(divide_chunks(tickers, num_in_chunks))\n",
    "\n",
    "print(f'Divided {num_of_stocks_to_get} tickers into {len(ticker_chunks)} chunks')\n",
    "\n",
    "# Initialize an empty list to store results\n",
    "df_list = []\n",
    "\n",
    "print('\\n----Collecting Sharpe Ratios----')\n",
    "# Loop through each chunk and process the stocks\n",
    "for chunk in ticker_chunks:\n",
    "    try:\n",
    "        # Calculate Sharpe ratios for the current chunk\n",
    "        sharpe_ratios_series = calculate_sharpe_ratio(\n",
    "            chunk, \n",
    "            tbill=tbill_data, \n",
    "            start_date=PROGRAM_START_DATE, \n",
    "            end_date=PROGRAM_END_DATE\n",
    "        )\n",
    "        # Create a DataFrame for the chunk\n",
    "        results_df_chunk = pd.DataFrame({\n",
    "            'Tickers': sharpe_ratios_series.index, \n",
    "            'Sharpe_ratios': sharpe_ratios_series.values\n",
    "        })\n",
    "        df_list.append(results_df_chunk)\n",
    "\n",
    "    except Exception as e:\n",
    "        print(f'Error calculating Sharpe ratios for chunk: {chunk}\\n{str(e)}')\n",
    "\n",
    "# Concatenate all DataFrames vertically\n",
    "final_df = pd.concat(df_list, axis=0, ignore_index=True)\n",
    "\n",
    "\n",
    "# Ensure we have a benchmark value for futre use\n",
    "final_df.loc[len(final_df)] = ['SPY', float(spy_sharpe.values[0])]\n",
    "\n",
    "final_df = final_df.drop_duplicates()\n",
    "\n",
    "# Check percentage of NaN values\n",
    "pct_of_nan = (final_df.isna().sum().sum() / len(final_df) * 100).round(2)\n",
    "print('\\n----Df Report----')\n",
    "print(f'Pct of NaN values is: {pct_of_nan}%')\n",
    "\n",
    "# Save the results to CSV\n",
    "\n",
    "if pct_of_nan >= 25:\n",
    "    # Ask the user if they still want to export\n",
    "    user_input = input(f\"The percentage of NaN values is {pct_of_nan:.2f}%. Do you still want to export the DataFrame? (yes/no): \").strip().lower()\n",
    "\n",
    "    if user_input == 'yes':\n",
    "        final_df.to_csv(f'{WORKSPACE_DIR}/portfolio_py/data/clean/sharpe_ratios.csv', index=False)\n",
    "        print('Df containing Sharpe Ratios Successfully Exported')\n",
    "    else:\n",
    "        print('Export cancelled.')\n",
    "else:\n",
    "    final_df.to_csv(f'{WORKSPACE_DIR}/portfolio_py/data/clean/sharpe_ratios.csv', index=False)\n",
    "    print('Nan Values are below threshold, Successfully Exported')\n",
    "\n",
    "\n",
    "end_time = time.time()\n",
    "elapsed_time = end_time - start_time\n",
    "\n",
    "print('\\n----Time Report----')\n",
    "print(f'Processing time: {elapsed_time:.2f} seconds, for {num_of_stocks_to_get} Tickers')"
   ]
  },
  {
   "cell_type": "code",
   "execution_count": 6,
   "metadata": {},
   "outputs": [
    {
     "data": {
      "text/html": [
       "<div>\n",
       "<style scoped>\n",
       "    .dataframe tbody tr th:only-of-type {\n",
       "        vertical-align: middle;\n",
       "    }\n",
       "\n",
       "    .dataframe tbody tr th {\n",
       "        vertical-align: top;\n",
       "    }\n",
       "\n",
       "    .dataframe thead th {\n",
       "        text-align: right;\n",
       "    }\n",
       "</style>\n",
       "<table border=\"1\" class=\"dataframe\">\n",
       "  <thead>\n",
       "    <tr style=\"text-align: right;\">\n",
       "      <th></th>\n",
       "      <th>Tickers</th>\n",
       "      <th>Sharpe_ratios</th>\n",
       "    </tr>\n",
       "  </thead>\n",
       "  <tbody>\n",
       "    <tr>\n",
       "      <th>0</th>\n",
       "      <td>AAPL</td>\n",
       "      <td>1.577152</td>\n",
       "    </tr>\n",
       "    <tr>\n",
       "      <th>1</th>\n",
       "      <td>AMZN</td>\n",
       "      <td>1.646417</td>\n",
       "    </tr>\n",
       "    <tr>\n",
       "      <th>2</th>\n",
       "      <td>AVGO</td>\n",
       "      <td>1.954486</td>\n",
       "    </tr>\n",
       "    <tr>\n",
       "      <th>3</th>\n",
       "      <td>BRK-B</td>\n",
       "      <td>1.651065</td>\n",
       "    </tr>\n",
       "    <tr>\n",
       "      <th>4</th>\n",
       "      <td>GOOGL</td>\n",
       "      <td>1.380955</td>\n",
       "    </tr>\n",
       "    <tr>\n",
       "      <th>...</th>\n",
       "      <td>...</td>\n",
       "      <td>...</td>\n",
       "    </tr>\n",
       "    <tr>\n",
       "      <th>495</th>\n",
       "      <td>AWK</td>\n",
       "      <td>-0.374826</td>\n",
       "    </tr>\n",
       "    <tr>\n",
       "      <th>496</th>\n",
       "      <td>DTE</td>\n",
       "      <td>0.626060</td>\n",
       "    </tr>\n",
       "    <tr>\n",
       "      <th>497</th>\n",
       "      <td>VLTO</td>\n",
       "      <td>1.311954</td>\n",
       "    </tr>\n",
       "    <tr>\n",
       "      <th>498</th>\n",
       "      <td>VTR</td>\n",
       "      <td>1.003038</td>\n",
       "    </tr>\n",
       "    <tr>\n",
       "      <th>499</th>\n",
       "      <td>ZM</td>\n",
       "      <td>0.683400</td>\n",
       "    </tr>\n",
       "  </tbody>\n",
       "</table>\n",
       "<p>500 rows × 2 columns</p>\n",
       "</div>"
      ],
      "text/plain": [
       "    Tickers  Sharpe_ratios\n",
       "0      AAPL       1.577152\n",
       "1      AMZN       1.646417\n",
       "2      AVGO       1.954486\n",
       "3     BRK-B       1.651065\n",
       "4     GOOGL       1.380955\n",
       "..      ...            ...\n",
       "495     AWK      -0.374826\n",
       "496     DTE       0.626060\n",
       "497    VLTO       1.311954\n",
       "498     VTR       1.003038\n",
       "499      ZM       0.683400\n",
       "\n",
       "[500 rows x 2 columns]"
      ]
     },
     "execution_count": 6,
     "metadata": {},
     "output_type": "execute_result"
    }
   ],
   "source": [
    "final_df"
   ]
  }
 ],
 "metadata": {
  "kernelspec": {
   "display_name": "portfolio_env",
   "language": "python",
   "name": "python3"
  },
  "language_info": {
   "codemirror_mode": {
    "name": "ipython",
    "version": 3
   },
   "file_extension": ".py",
   "mimetype": "text/x-python",
   "name": "python",
   "nbconvert_exporter": "python",
   "pygments_lexer": "ipython3",
   "version": "3.11.5"
  }
 },
 "nbformat": 4,
 "nbformat_minor": 2
}
