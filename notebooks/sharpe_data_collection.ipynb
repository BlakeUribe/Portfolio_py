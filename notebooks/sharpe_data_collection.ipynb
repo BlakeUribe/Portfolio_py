{
 "cells": [
  {
   "cell_type": "markdown",
   "metadata": {},
   "source": [
    "### Sharpe Ratio Filter and Export Notebook\n",
    "\n",
    "1. **Notebook Objective:**\n",
    "\t- This notebook calculates the Sharpe Ratio for a set of stocks obtained from company_tickers.json, which is approximately all NYSE stocks\n",
    "    - It uses the Sharpe Ratio as a filter to exclude underperforming stocks; this filtering will be implemented in the next notebook to ensure a complete dataset is preserved for potential future use.\t\n",
    "    - Only stocks with a Sharpe Ratio above a certain threshold are retained\n",
    "\t- The filtered stock data is then exported for further analysis or reporting  \n",
    "\n",
    "<br>\n",
    "\n",
    "2. **Sharpe Ratio Formula:**\n",
    "\t- $\\text{Sharpe Ratio} = \\frac{\\overline{R_p} - R_f}{\\sigma_p}$\n",
    "        - $\\overline{R_p}$: Average return of the portfolio or stock\n",
    "        - $R_f$: Risk-free rate\n",
    "        - $\\sigma_p$: Standard deviation of portfolio or stock returns\n"
   ]
  },
  {
   "cell_type": "code",
   "execution_count": 1,
   "metadata": {},
   "outputs": [
    {
     "name": "stdout",
     "output_type": "stream",
     "text": [
      "Current Working Directory: /Users/blakeuribe/Desktop/portfolio_py\n",
      "\n",
      "---------------------------------\n",
      "finance_utils.py successfully loaded, updated last April. 29 2025 4:55\n",
      "---------------------------------\n",
      "\n",
      "\n",
      "\n",
      "---------------------------------\n",
      "helpers.py successfully loaded, updated last Feb. 04 2025\n",
      "---------------------------------\n",
      "\n",
      "\n",
      "Updated on 04/15/2025 5:56\n"
     ]
    }
   ],
   "source": [
    "import time\n",
    "import os \n",
    "\n",
    "start_time = time.time()\n",
    "\n",
    "WORKSPACE_DIR = os.getenv('WORKSPACE_DIR')\n",
    "\n",
    "if not os.getcwd().endswith('portfolio_py'):\n",
    "    os.chdir(f'{WORKSPACE_DIR}/portfolio_py')\n",
    "print(f'Current Working Directory: {os.getcwd()}')\n",
    "\n",
    "from utils.finance_utils import calculate_sharpe_ratio\n",
    "from utils.helpers import divide_chunks\n",
    "from utils.config import PROGRAM_START_DATE, PROGRAM_END_DATE\n",
    "\n",
    "from dotenv import load_dotenv\n",
    "\n",
    "import yfinance as yf\n",
    "import numpy as np\n",
    "import pandas as pd\n",
    "\n",
    "# from datetime import datetime\n",
    "# from dateutil.relativedelta import relativedelta"
   ]
  },
  {
   "cell_type": "code",
   "execution_count": 2,
   "metadata": {},
   "outputs": [
    {
     "name": "stdout",
     "output_type": "stream",
     "text": [
      "Ending Program at: 2025-04-15\n",
      "Starting Program at: 2024-04-15\n"
     ]
    },
    {
     "name": "stderr",
     "output_type": "stream",
     "text": [
      "[*********************100%***********************]  1 of 1 completed\n",
      "ERROR:yfinance:\n",
      "1 Failed download:\n",
      "ERROR:yfinance:['^IRX']: YFRateLimitError('Too Many Requests. Rate limited. Try after a while.')\n",
      "INFO:backoff_logger:Starting call to 'utils.finance_utils.fetch_data_with_backoff', this is the 1st time calling it.\n",
      "[*********************100%***********************]  1 of 1 completed\n",
      "ERROR:yfinance:\n",
      "1 Failed download:\n",
      "ERROR:yfinance:['SPY']: YFRateLimitError('Too Many Requests. Rate limited. Try after a while.')\n"
     ]
    },
    {
     "name": "stdout",
     "output_type": "stream",
     "text": [
      "Spy Sharpe: Ticker\n",
      "SPY   NaN\n",
      "dtype: float64\n"
     ]
    }
   ],
   "source": [
    "load_dotenv()\n",
    "\n",
    "print(f'Ending Program at: {PROGRAM_END_DATE}')\n",
    "print(f'Starting Program at: {PROGRAM_START_DATE}')\n",
    "\n",
    "etf_df = pd.read_csv('data/raw/ETFs.csv')[['Symbol']] # include all etfs with NYSE stocks\n",
    "etf_df.rename(columns={'Symbol': 'ticker'}, inplace=True)\n",
    "\n",
    "nyse_ticker_df = pd.read_json(f'{WORKSPACE_DIR}/portfolio_py/data/raw/company_tickers.json')\n",
    "nyse_ticker_df = nyse_ticker_df.T.drop(columns=['cik_str', 'title'])\n",
    "\n",
    "ticker_df = pd.concat([etf_df, nyse_ticker_df]).drop_duplicates().reset_index(drop=True)\n",
    "\n",
    "\n",
    "tbill_data = yf.download('^IRX', start=PROGRAM_START_DATE, end=PROGRAM_END_DATE, auto_adjust=True)['Close']\n",
    "tbill_data = tbill_data / 100 / 360  # Convert to daily rate\n",
    "\n",
    "spy_sharpe = calculate_sharpe_ratio(np.array('spy'), tbill=tbill_data, start_date=PROGRAM_START_DATE, end_date=PROGRAM_END_DATE)\n",
    "print(f'Spy Sharpe: {spy_sharpe}')"
   ]
  },
  {
   "cell_type": "code",
   "execution_count": 3,
   "metadata": {},
   "outputs": [
    {
     "data": {
      "text/html": [
       "<div>\n",
       "<style scoped>\n",
       "    .dataframe tbody tr th:only-of-type {\n",
       "        vertical-align: middle;\n",
       "    }\n",
       "\n",
       "    .dataframe tbody tr th {\n",
       "        vertical-align: top;\n",
       "    }\n",
       "\n",
       "    .dataframe thead th {\n",
       "        text-align: right;\n",
       "    }\n",
       "</style>\n",
       "<table border=\"1\" class=\"dataframe\">\n",
       "  <thead>\n",
       "    <tr style=\"text-align: right;\">\n",
       "      <th></th>\n",
       "      <th>ticker</th>\n",
       "    </tr>\n",
       "  </thead>\n",
       "  <tbody>\n",
       "    <tr>\n",
       "      <th>0</th>\n",
       "      <td>AAXJ</td>\n",
       "    </tr>\n",
       "    <tr>\n",
       "      <th>1</th>\n",
       "      <td>ACWI</td>\n",
       "    </tr>\n",
       "    <tr>\n",
       "      <th>2</th>\n",
       "      <td>ACWX</td>\n",
       "    </tr>\n",
       "    <tr>\n",
       "      <th>3</th>\n",
       "      <td>ADRA</td>\n",
       "    </tr>\n",
       "    <tr>\n",
       "      <th>4</th>\n",
       "      <td>ADRD</td>\n",
       "    </tr>\n",
       "    <tr>\n",
       "      <th>...</th>\n",
       "      <td>...</td>\n",
       "    </tr>\n",
       "    <tr>\n",
       "      <th>10984</th>\n",
       "      <td>EQV-WT</td>\n",
       "    </tr>\n",
       "    <tr>\n",
       "      <th>10985</th>\n",
       "      <td>EQV-UN</td>\n",
       "    </tr>\n",
       "    <tr>\n",
       "      <th>10986</th>\n",
       "      <td>CHARR</td>\n",
       "    </tr>\n",
       "    <tr>\n",
       "      <th>10987</th>\n",
       "      <td>CHARU</td>\n",
       "    </tr>\n",
       "    <tr>\n",
       "      <th>10988</th>\n",
       "      <td>NTWOU</td>\n",
       "    </tr>\n",
       "  </tbody>\n",
       "</table>\n",
       "<p>10989 rows × 1 columns</p>\n",
       "</div>"
      ],
      "text/plain": [
       "       ticker\n",
       "0        AAXJ\n",
       "1        ACWI\n",
       "2        ACWX\n",
       "3        ADRA\n",
       "4        ADRD\n",
       "...       ...\n",
       "10984  EQV-WT\n",
       "10985  EQV-UN\n",
       "10986   CHARR\n",
       "10987   CHARU\n",
       "10988   NTWOU\n",
       "\n",
       "[10989 rows x 1 columns]"
      ]
     },
     "execution_count": 3,
     "metadata": {},
     "output_type": "execute_result"
    }
   ],
   "source": [
    "ticker_df"
   ]
  },
  {
   "cell_type": "code",
   "execution_count": 4,
   "metadata": {},
   "outputs": [
    {
     "data": {
      "text/plain": [
       "True"
      ]
     },
     "execution_count": 4,
     "metadata": {},
     "output_type": "execute_result"
    }
   ],
   "source": [
    "'AGA' in ticker_df['ticker'].to_list()"
   ]
  },
  {
   "cell_type": "code",
   "execution_count": 5,
   "metadata": {},
   "outputs": [
    {
     "name": "stderr",
     "output_type": "stream",
     "text": [
      "INFO:backoff_logger:Starting call to 'utils.finance_utils.fetch_data_with_backoff', this is the 1st time calling it.\n",
      "[*********************100%***********************]  15 of 15 completed\n",
      "ERROR:yfinance:\n",
      "15 Failed downloads:\n",
      "ERROR:yfinance:['ADRU', 'ACWI', 'ADRD', 'AGG', 'AGZ', 'AGQ', 'AAXJ', 'ADRA', 'ACWX', 'AGF', 'ADZ', 'AGA', 'AFK', 'AIA', 'ADRE']: YFRateLimitError('Too Many Requests. Rate limited. Try after a while.')\n",
      "INFO:backoff_logger:Starting call to 'utils.finance_utils.fetch_data_with_backoff', this is the 1st time calling it.\n",
      "[*********************100%***********************]  15 of 15 completed\n",
      "ERROR:yfinance:\n",
      "15 Failed downloads:\n",
      "ERROR:yfinance:['BDG', 'AOR', 'AOM', 'AYT', 'AOA', 'ALT', 'AOK', 'AXFN', 'BDD', 'AMJ', 'BAL', 'ASO', 'BBH', 'BABS', 'BAB']: YFRateLimitError('Too Many Requests. Rate limited. Try after a while.')\n",
      "INFO:backoff_logger:Starting call to 'utils.finance_utils.fetch_data_with_backoff', this is the 1st time calling it.\n",
      "[*********************100%***********************]  15 of 15 completed\n",
      "ERROR:yfinance:\n",
      "15 Failed downloads:\n",
      "ERROR:yfinance:['BDH', 'BNZ', 'BGZ', 'BIK', 'BIL', 'BIB', 'BHH', 'BIV', 'BND', 'BKF', 'BJK', 'BIS', 'BICK', 'BGU', 'BLV']: YFRateLimitError('Too Many Requests. Rate limited. Try after a while.')\n",
      "INFO:backoff_logger:Starting call to 'utils.finance_utils.fetch_data_with_backoff', this is the 1st time calling it.\n",
      "[*********************100%***********************]  15 of 15 completed\n",
      "ERROR:yfinance:\n",
      "15 Failed downloads:\n",
      "ERROR:yfinance:['BWX', 'BXDB', 'BSC', 'BRF', 'BWV', 'BVL', 'BVT', 'BSR', 'BOM', 'BRXX', 'BRIL', 'BOS', 'BWZ', 'BSV', 'BRIS']: YFRateLimitError('Too Many Requests. Rate limited. Try after a while.')\n",
      "INFO:backoff_logger:Starting call to 'utils.finance_utils.fetch_data_with_backoff', this is the 1st time calling it.\n",
      "[*********************100%***********************]  15 of 15 completed\n",
      "ERROR:yfinance:\n",
      "15 Failed downloads:\n",
      "ERROR:yfinance:['BZF', 'CHIB', 'CHIM', 'CHIX', 'CGW', 'CFT', 'BXUC', 'BXDC', 'CHIE', 'CEW', 'BXUB', 'CHIQ', 'BZQ', 'CHII', 'BXDD']: YFRateLimitError('Too Many Requests. Rate limited. Try after a while.')\n",
      "INFO:backoff_logger:Starting call to 'utils.finance_utils.fetch_data_with_backoff', this is the 1st time calling it.\n",
      "[*********************100%***********************]  15 of 15 completed\n",
      "ERROR:yfinance:\n",
      "15 Failed downloads:\n",
      "ERROR:yfinance:['CRBA', 'CRBQ', 'CPI', 'CQQQ', 'CHXX', 'CMF', 'CRBI', 'CNDA', 'CIU', 'CLY', 'COPX', 'CMD', 'CNY', 'COW', 'CRO']: YFRateLimitError('Too Many Requests. Rate limited. Try after a while.')\n",
      "INFO:backoff_logger:Starting call to 'utils.finance_utils.fetch_data_with_backoff', this is the 1st time calling it.\n",
      "[*********************100%***********************]  10 of 10 completed\n",
      "ERROR:yfinance:\n",
      "10 Failed downloads:\n",
      "ERROR:yfinance:['CSLS', 'CUT', 'CSJ', 'CU', 'CXA', 'CSD', 'CWI', 'CVY', 'CSM', 'CWB']: YFRateLimitError('Too Many Requests. Rate limited. Try after a while.')\n"
     ]
    },
    {
     "name": "stdout",
     "output_type": "stream",
     "text": [
      "\n",
      "----Df Report----\n",
      "Pct of NaN values is: 100.0%\n",
      "Export cancelled.\n",
      "\n",
      "----Time Report----\n",
      "Processing time: 17.81 seconds, for 100 Tickers\n"
     ]
    }
   ],
   "source": [
    "\n",
    "# Set chunk size and number of stocks\n",
    "num_in_chunks = 15\n",
    "num_of_stocks_to_get = 100 # Adjust as needed\n",
    "\n",
    "# Get tickers and divide into chunks\n",
    "\n",
    "tickers = ticker_df['ticker'][0:num_of_stocks_to_get]  # Remove .tolist() here\n",
    "ticker_chunks = list(divide_chunks(tickers, num_in_chunks))\n",
    "\n",
    "# print(f'Divided {num_of_stocks_to_get} tickers into {len(ticker_chunks)} chunks')\n",
    "\n",
    "# Initialize an empty list to store results\n",
    "df_list = []\n",
    "\n",
    "# Loop through each chunk and process the stocks\n",
    "for chunk in ticker_chunks:\n",
    "    try:\n",
    "        # Calculate Sharpe ratios for the current chunk\n",
    "        sharpe_ratios_series = calculate_sharpe_ratio(\n",
    "            chunk, \n",
    "            tbill=tbill_data, \n",
    "            start_date=PROGRAM_START_DATE, \n",
    "            end_date=PROGRAM_END_DATE\n",
    "        )\n",
    "        # Create a DataFrame for the chunk\n",
    "        results_df_chunk = pd.DataFrame({\n",
    "            'Tickers': sharpe_ratios_series.index, \n",
    "            'Sharpe_ratios': sharpe_ratios_series.values\n",
    "        })\n",
    "        df_list.append(results_df_chunk)\n",
    "\n",
    "    except Exception as e:\n",
    "        print(f'Error calculating Sharpe ratios for chunk: {chunk}\\n{str(e)}')\n",
    "\n",
    "# Concatenate all DataFrames vertically\n",
    "final_df = pd.concat(df_list, axis=0, ignore_index=True)\n",
    "\n",
    "\n",
    "# Ensure we have a benchmark value for futre use\n",
    "final_df.loc[len(final_df)] = ['SPY', float(spy_sharpe.values[0])]\n",
    "\n",
    "final_df = final_df.drop_duplicates()\n",
    "\n",
    "# Check percentage of NaN values\n",
    "pct_of_nan = (final_df.isna().sum().sum() / len(final_df) * 100).round(2)\n",
    "print('\\n----Df Report----')\n",
    "print(f'Pct of NaN values is: {pct_of_nan}%')\n",
    "\n",
    "# Save the results to CSV\n",
    "\n",
    "if pct_of_nan >= 25:\n",
    "    # Ask the user if they still want to export\n",
    "    user_input = input(f\"The percentage of NaN values is {pct_of_nan:.2f}%. Do you still want to export the DataFrame? (yes/no): \").strip().lower()\n",
    "\n",
    "    if user_input == 'yes':\n",
    "        final_df.to_csv(f'{WORKSPACE_DIR}/portfolio_py/data/clean/sharpe_ratios.csv', index=False)\n",
    "        print('Df containing Sharpe Ratios Successfully Exported')\n",
    "    else:\n",
    "        print('Export cancelled.')\n",
    "else:\n",
    "    final_df.to_csv(f'{WORKSPACE_DIR}/portfolio_py/data/clean/sharpe_ratios.csv', index=False)\n",
    "    print('Nan Values are below threshold, Successfully Exported')\n",
    "\n",
    "\n",
    "end_time = time.time()\n",
    "elapsed_time = end_time - start_time\n",
    "\n",
    "print('\\n----Time Report----')\n",
    "print(f'Processing time: {elapsed_time:.2f} seconds, for {num_of_stocks_to_get} Tickers')"
   ]
  },
  {
   "cell_type": "code",
   "execution_count": 6,
   "metadata": {},
   "outputs": [
    {
     "data": {
      "text/html": [
       "<div>\n",
       "<style scoped>\n",
       "    .dataframe tbody tr th:only-of-type {\n",
       "        vertical-align: middle;\n",
       "    }\n",
       "\n",
       "    .dataframe tbody tr th {\n",
       "        vertical-align: top;\n",
       "    }\n",
       "\n",
       "    .dataframe thead th {\n",
       "        text-align: right;\n",
       "    }\n",
       "</style>\n",
       "<table border=\"1\" class=\"dataframe\">\n",
       "  <thead>\n",
       "    <tr style=\"text-align: right;\">\n",
       "      <th></th>\n",
       "      <th>Tickers</th>\n",
       "      <th>Sharpe_ratios</th>\n",
       "    </tr>\n",
       "  </thead>\n",
       "  <tbody>\n",
       "  </tbody>\n",
       "</table>\n",
       "</div>"
      ],
      "text/plain": [
       "Empty DataFrame\n",
       "Columns: [Tickers, Sharpe_ratios]\n",
       "Index: []"
      ]
     },
     "execution_count": 6,
     "metadata": {},
     "output_type": "execute_result"
    }
   ],
   "source": [
    "final_df.dropna()"
   ]
  },
  {
   "cell_type": "code",
   "execution_count": 7,
   "metadata": {},
   "outputs": [
    {
     "name": "stdout",
     "output_type": "stream",
     "text": [
      "YF.download() has changed argument auto_adjust default to True\n"
     ]
    },
    {
     "name": "stderr",
     "output_type": "stream",
     "text": [
      "[*********************100%***********************]  1 of 1 completed\n",
      "ERROR:yfinance:\n",
      "1 Failed download:\n",
      "ERROR:yfinance:['MSFT']: YFRateLimitError('Too Many Requests. Rate limited. Try after a while.')\n"
     ]
    },
    {
     "data": {
      "text/html": [
       "<div>\n",
       "<style scoped>\n",
       "    .dataframe tbody tr th:only-of-type {\n",
       "        vertical-align: middle;\n",
       "    }\n",
       "\n",
       "    .dataframe tbody tr th {\n",
       "        vertical-align: top;\n",
       "    }\n",
       "\n",
       "    .dataframe thead tr th {\n",
       "        text-align: left;\n",
       "    }\n",
       "\n",
       "    .dataframe thead tr:last-of-type th {\n",
       "        text-align: right;\n",
       "    }\n",
       "</style>\n",
       "<table border=\"1\" class=\"dataframe\">\n",
       "  <thead>\n",
       "    <tr>\n",
       "      <th>Price</th>\n",
       "      <th>Adj Close</th>\n",
       "      <th>Close</th>\n",
       "      <th>High</th>\n",
       "      <th>Low</th>\n",
       "      <th>Open</th>\n",
       "      <th>Volume</th>\n",
       "    </tr>\n",
       "    <tr>\n",
       "      <th>Ticker</th>\n",
       "      <th>MSFT</th>\n",
       "      <th>MSFT</th>\n",
       "      <th>MSFT</th>\n",
       "      <th>MSFT</th>\n",
       "      <th>MSFT</th>\n",
       "      <th>MSFT</th>\n",
       "    </tr>\n",
       "    <tr>\n",
       "      <th>Date</th>\n",
       "      <th></th>\n",
       "      <th></th>\n",
       "      <th></th>\n",
       "      <th></th>\n",
       "      <th></th>\n",
       "      <th></th>\n",
       "    </tr>\n",
       "  </thead>\n",
       "  <tbody>\n",
       "  </tbody>\n",
       "</table>\n",
       "</div>"
      ],
      "text/plain": [
       "Empty DataFrame\n",
       "Columns: [(Adj Close, MSFT), (Close, MSFT), (High, MSFT), (Low, MSFT), (Open, MSFT), (Volume, MSFT)]\n",
       "Index: []"
      ]
     },
     "execution_count": 7,
     "metadata": {},
     "output_type": "execute_result"
    }
   ],
   "source": [
    "import yfinance as yf\n",
    "yf.download('msft')\n"
   ]
  }
 ],
 "metadata": {
  "kernelspec": {
   "display_name": "portfolio_env",
   "language": "python",
   "name": "python3"
  },
  "language_info": {
   "codemirror_mode": {
    "name": "ipython",
    "version": 3
   },
   "file_extension": ".py",
   "mimetype": "text/x-python",
   "name": "python",
   "nbconvert_exporter": "python",
   "pygments_lexer": "ipython3",
   "version": "3.11.5"
  }
 },
 "nbformat": 4,
 "nbformat_minor": 2
}
